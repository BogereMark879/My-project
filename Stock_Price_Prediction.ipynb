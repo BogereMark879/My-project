{
  "nbformat": 4,
  "nbformat_minor": 0,
  "metadata": {
    "colab": {
      "provenance": [],
      "mount_file_id": "18l44E8UTI--PB-bCe_sVVRLSB1MjdhUh",
      "authorship_tag": "ABX9TyMDq8Px3stSMGOrQRCHi0vk",
      "include_colab_link": true
    },
    "kernelspec": {
      "name": "python3",
      "display_name": "Python 3"
    },
    "language_info": {
      "name": "python"
    }
  },
  "cells": [
    {
      "cell_type": "markdown",
      "metadata": {
        "id": "view-in-github",
        "colab_type": "text"
      },
      "source": [
        "<a href=\"https://colab.research.google.com/github/BogereMark879/My-project/blob/main/Stock_Price_Prediction.ipynb\" target=\"_parent\"><img src=\"https://colab.research.google.com/assets/colab-badge.svg\" alt=\"Open In Colab\"/></a>"
      ]
    },
    {
      "cell_type": "code",
      "source": [
        "import pandas as pd\n",
        "import numpy as np\n",
        "import matplotlib.pyplot as plt\n",
        "from sklearn.preprocessing import MinMaxScaler\n",
        "from sklearn.model_selection import TimeSeriesSplit\n",
        "from sklearn import metrics\n",
        "from keras.models import Sequential\n",
        "from keras.layers import Dense, LSTM,Dropout\n",
        "from itertools import combinations\n",
        "from sklearn.metrics import mean_absolute_error\n",
        "from sklearn.metrics import mean_squared_error\n",
        "from statsmodels.tsa.stattools import adfuller\n",
        "from statsmodels.tsa.stattools import acf, pacf\n",
        "from statsmodels.tsa.arima.model import ARIMA as ARIMA\n",
        "import statsmodels.api as sm\n",
        "import statsmodels.tsa.api as smt"
      ],
      "metadata": {
        "id": "ZrRgyGQaSZh3"
      },
      "execution_count": 1,
      "outputs": []
    },
    {
      "cell_type": "code",
      "source": [
        "dataframe=pd.read_csv('/content/drive/MyDrive/NFLX.csv')\n",
        "dataframe.head()"
      ],
      "metadata": {
        "colab": {
          "base_uri": "https://localhost:8080/",
          "height": 204
        },
        "id": "yf7RtA9Drxg2",
        "outputId": "fedb8874-8b05-458b-b194-1546bfeacc7b"
      },
      "execution_count": 2,
      "outputs": [
        {
          "output_type": "execute_result",
          "data": {
            "text/plain": [
              "         Date        Open        High         Low       Close   Adj Close  \\\n",
              "0  2018-02-05  262.000000  267.899994  250.029999  254.259995  254.259995   \n",
              "1  2018-02-06  247.699997  266.700012  245.000000  265.720001  265.720001   \n",
              "2  2018-02-07  266.579987  272.450012  264.329987  264.559998  264.559998   \n",
              "3  2018-02-08  267.079987  267.619995  250.000000  250.100006  250.100006   \n",
              "4  2018-02-09  253.850006  255.800003  236.110001  249.470001  249.470001   \n",
              "\n",
              "     Volume  \n",
              "0  11896100  \n",
              "1  12595800  \n",
              "2   8981500  \n",
              "3   9306700  \n",
              "4  16906900  "
            ],
            "text/html": [
              "\n",
              "  <div id=\"df-476b44d4-50fe-4121-8173-e026479ebb38\">\n",
              "    <div class=\"colab-df-container\">\n",
              "      <div>\n",
              "<style scoped>\n",
              "    .dataframe tbody tr th:only-of-type {\n",
              "        vertical-align: middle;\n",
              "    }\n",
              "\n",
              "    .dataframe tbody tr th {\n",
              "        vertical-align: top;\n",
              "    }\n",
              "\n",
              "    .dataframe thead th {\n",
              "        text-align: right;\n",
              "    }\n",
              "</style>\n",
              "<table border=\"1\" class=\"dataframe\">\n",
              "  <thead>\n",
              "    <tr style=\"text-align: right;\">\n",
              "      <th></th>\n",
              "      <th>Date</th>\n",
              "      <th>Open</th>\n",
              "      <th>High</th>\n",
              "      <th>Low</th>\n",
              "      <th>Close</th>\n",
              "      <th>Adj Close</th>\n",
              "      <th>Volume</th>\n",
              "    </tr>\n",
              "  </thead>\n",
              "  <tbody>\n",
              "    <tr>\n",
              "      <th>0</th>\n",
              "      <td>2018-02-05</td>\n",
              "      <td>262.000000</td>\n",
              "      <td>267.899994</td>\n",
              "      <td>250.029999</td>\n",
              "      <td>254.259995</td>\n",
              "      <td>254.259995</td>\n",
              "      <td>11896100</td>\n",
              "    </tr>\n",
              "    <tr>\n",
              "      <th>1</th>\n",
              "      <td>2018-02-06</td>\n",
              "      <td>247.699997</td>\n",
              "      <td>266.700012</td>\n",
              "      <td>245.000000</td>\n",
              "      <td>265.720001</td>\n",
              "      <td>265.720001</td>\n",
              "      <td>12595800</td>\n",
              "    </tr>\n",
              "    <tr>\n",
              "      <th>2</th>\n",
              "      <td>2018-02-07</td>\n",
              "      <td>266.579987</td>\n",
              "      <td>272.450012</td>\n",
              "      <td>264.329987</td>\n",
              "      <td>264.559998</td>\n",
              "      <td>264.559998</td>\n",
              "      <td>8981500</td>\n",
              "    </tr>\n",
              "    <tr>\n",
              "      <th>3</th>\n",
              "      <td>2018-02-08</td>\n",
              "      <td>267.079987</td>\n",
              "      <td>267.619995</td>\n",
              "      <td>250.000000</td>\n",
              "      <td>250.100006</td>\n",
              "      <td>250.100006</td>\n",
              "      <td>9306700</td>\n",
              "    </tr>\n",
              "    <tr>\n",
              "      <th>4</th>\n",
              "      <td>2018-02-09</td>\n",
              "      <td>253.850006</td>\n",
              "      <td>255.800003</td>\n",
              "      <td>236.110001</td>\n",
              "      <td>249.470001</td>\n",
              "      <td>249.470001</td>\n",
              "      <td>16906900</td>\n",
              "    </tr>\n",
              "  </tbody>\n",
              "</table>\n",
              "</div>\n",
              "      <button class=\"colab-df-convert\" onclick=\"convertToInteractive('df-476b44d4-50fe-4121-8173-e026479ebb38')\"\n",
              "              title=\"Convert this dataframe to an interactive table.\"\n",
              "              style=\"display:none;\">\n",
              "        \n",
              "  <svg xmlns=\"http://www.w3.org/2000/svg\" height=\"24px\"viewBox=\"0 0 24 24\"\n",
              "       width=\"24px\">\n",
              "    <path d=\"M0 0h24v24H0V0z\" fill=\"none\"/>\n",
              "    <path d=\"M18.56 5.44l.94 2.06.94-2.06 2.06-.94-2.06-.94-.94-2.06-.94 2.06-2.06.94zm-11 1L8.5 8.5l.94-2.06 2.06-.94-2.06-.94L8.5 2.5l-.94 2.06-2.06.94zm10 10l.94 2.06.94-2.06 2.06-.94-2.06-.94-.94-2.06-.94 2.06-2.06.94z\"/><path d=\"M17.41 7.96l-1.37-1.37c-.4-.4-.92-.59-1.43-.59-.52 0-1.04.2-1.43.59L10.3 9.45l-7.72 7.72c-.78.78-.78 2.05 0 2.83L4 21.41c.39.39.9.59 1.41.59.51 0 1.02-.2 1.41-.59l7.78-7.78 2.81-2.81c.8-.78.8-2.07 0-2.86zM5.41 20L4 18.59l7.72-7.72 1.47 1.35L5.41 20z\"/>\n",
              "  </svg>\n",
              "      </button>\n",
              "      \n",
              "  <style>\n",
              "    .colab-df-container {\n",
              "      display:flex;\n",
              "      flex-wrap:wrap;\n",
              "      gap: 12px;\n",
              "    }\n",
              "\n",
              "    .colab-df-convert {\n",
              "      background-color: #E8F0FE;\n",
              "      border: none;\n",
              "      border-radius: 50%;\n",
              "      cursor: pointer;\n",
              "      display: none;\n",
              "      fill: #1967D2;\n",
              "      height: 32px;\n",
              "      padding: 0 0 0 0;\n",
              "      width: 32px;\n",
              "    }\n",
              "\n",
              "    .colab-df-convert:hover {\n",
              "      background-color: #E2EBFA;\n",
              "      box-shadow: 0px 1px 2px rgba(60, 64, 67, 0.3), 0px 1px 3px 1px rgba(60, 64, 67, 0.15);\n",
              "      fill: #174EA6;\n",
              "    }\n",
              "\n",
              "    [theme=dark] .colab-df-convert {\n",
              "      background-color: #3B4455;\n",
              "      fill: #D2E3FC;\n",
              "    }\n",
              "\n",
              "    [theme=dark] .colab-df-convert:hover {\n",
              "      background-color: #434B5C;\n",
              "      box-shadow: 0px 1px 3px 1px rgba(0, 0, 0, 0.15);\n",
              "      filter: drop-shadow(0px 1px 2px rgba(0, 0, 0, 0.3));\n",
              "      fill: #FFFFFF;\n",
              "    }\n",
              "  </style>\n",
              "\n",
              "      <script>\n",
              "        const buttonEl =\n",
              "          document.querySelector('#df-476b44d4-50fe-4121-8173-e026479ebb38 button.colab-df-convert');\n",
              "        buttonEl.style.display =\n",
              "          google.colab.kernel.accessAllowed ? 'block' : 'none';\n",
              "\n",
              "        async function convertToInteractive(key) {\n",
              "          const element = document.querySelector('#df-476b44d4-50fe-4121-8173-e026479ebb38');\n",
              "          const dataTable =\n",
              "            await google.colab.kernel.invokeFunction('convertToInteractive',\n",
              "                                                     [key], {});\n",
              "          if (!dataTable) return;\n",
              "\n",
              "          const docLinkHtml = 'Like what you see? Visit the ' +\n",
              "            '<a target=\"_blank\" href=https://colab.research.google.com/notebooks/data_table.ipynb>data table notebook</a>'\n",
              "            + ' to learn more about interactive tables.';\n",
              "          element.innerHTML = '';\n",
              "          dataTable['output_type'] = 'display_data';\n",
              "          await google.colab.output.renderOutput(dataTable, element);\n",
              "          const docLink = document.createElement('div');\n",
              "          docLink.innerHTML = docLinkHtml;\n",
              "          element.appendChild(docLink);\n",
              "        }\n",
              "      </script>\n",
              "    </div>\n",
              "  </div>\n",
              "  "
            ]
          },
          "metadata": {},
          "execution_count": 2
        }
      ]
    },
    {
      "cell_type": "code",
      "source": [
        "dataframe.tail()"
      ],
      "metadata": {
        "colab": {
          "base_uri": "https://localhost:8080/",
          "height": 204
        },
        "id": "DYy46r25tNwd",
        "outputId": "668add62-1d53-4ca3-e470-1a45f3d26711"
      },
      "execution_count": 3,
      "outputs": [
        {
          "output_type": "execute_result",
          "data": {
            "text/plain": [
              "            Date        Open        High         Low       Close   Adj Close  \\\n",
              "1004  2022-01-31  401.970001  427.700012  398.200012  427.140015  427.140015   \n",
              "1005  2022-02-01  432.959991  458.480011  425.540009  457.130005  457.130005   \n",
              "1006  2022-02-02  448.250000  451.980011  426.480011  429.480011  429.480011   \n",
              "1007  2022-02-03  421.440002  429.260010  404.279999  405.600006  405.600006   \n",
              "1008  2022-02-04  407.309998  412.769989  396.640015  410.170013  410.170013   \n",
              "\n",
              "        Volume  \n",
              "1004  20047500  \n",
              "1005  22542300  \n",
              "1006  14346000  \n",
              "1007   9905200  \n",
              "1008   7782400  "
            ],
            "text/html": [
              "\n",
              "  <div id=\"df-fa60ca4e-905d-4dcf-af8a-237100ed6622\">\n",
              "    <div class=\"colab-df-container\">\n",
              "      <div>\n",
              "<style scoped>\n",
              "    .dataframe tbody tr th:only-of-type {\n",
              "        vertical-align: middle;\n",
              "    }\n",
              "\n",
              "    .dataframe tbody tr th {\n",
              "        vertical-align: top;\n",
              "    }\n",
              "\n",
              "    .dataframe thead th {\n",
              "        text-align: right;\n",
              "    }\n",
              "</style>\n",
              "<table border=\"1\" class=\"dataframe\">\n",
              "  <thead>\n",
              "    <tr style=\"text-align: right;\">\n",
              "      <th></th>\n",
              "      <th>Date</th>\n",
              "      <th>Open</th>\n",
              "      <th>High</th>\n",
              "      <th>Low</th>\n",
              "      <th>Close</th>\n",
              "      <th>Adj Close</th>\n",
              "      <th>Volume</th>\n",
              "    </tr>\n",
              "  </thead>\n",
              "  <tbody>\n",
              "    <tr>\n",
              "      <th>1004</th>\n",
              "      <td>2022-01-31</td>\n",
              "      <td>401.970001</td>\n",
              "      <td>427.700012</td>\n",
              "      <td>398.200012</td>\n",
              "      <td>427.140015</td>\n",
              "      <td>427.140015</td>\n",
              "      <td>20047500</td>\n",
              "    </tr>\n",
              "    <tr>\n",
              "      <th>1005</th>\n",
              "      <td>2022-02-01</td>\n",
              "      <td>432.959991</td>\n",
              "      <td>458.480011</td>\n",
              "      <td>425.540009</td>\n",
              "      <td>457.130005</td>\n",
              "      <td>457.130005</td>\n",
              "      <td>22542300</td>\n",
              "    </tr>\n",
              "    <tr>\n",
              "      <th>1006</th>\n",
              "      <td>2022-02-02</td>\n",
              "      <td>448.250000</td>\n",
              "      <td>451.980011</td>\n",
              "      <td>426.480011</td>\n",
              "      <td>429.480011</td>\n",
              "      <td>429.480011</td>\n",
              "      <td>14346000</td>\n",
              "    </tr>\n",
              "    <tr>\n",
              "      <th>1007</th>\n",
              "      <td>2022-02-03</td>\n",
              "      <td>421.440002</td>\n",
              "      <td>429.260010</td>\n",
              "      <td>404.279999</td>\n",
              "      <td>405.600006</td>\n",
              "      <td>405.600006</td>\n",
              "      <td>9905200</td>\n",
              "    </tr>\n",
              "    <tr>\n",
              "      <th>1008</th>\n",
              "      <td>2022-02-04</td>\n",
              "      <td>407.309998</td>\n",
              "      <td>412.769989</td>\n",
              "      <td>396.640015</td>\n",
              "      <td>410.170013</td>\n",
              "      <td>410.170013</td>\n",
              "      <td>7782400</td>\n",
              "    </tr>\n",
              "  </tbody>\n",
              "</table>\n",
              "</div>\n",
              "      <button class=\"colab-df-convert\" onclick=\"convertToInteractive('df-fa60ca4e-905d-4dcf-af8a-237100ed6622')\"\n",
              "              title=\"Convert this dataframe to an interactive table.\"\n",
              "              style=\"display:none;\">\n",
              "        \n",
              "  <svg xmlns=\"http://www.w3.org/2000/svg\" height=\"24px\"viewBox=\"0 0 24 24\"\n",
              "       width=\"24px\">\n",
              "    <path d=\"M0 0h24v24H0V0z\" fill=\"none\"/>\n",
              "    <path d=\"M18.56 5.44l.94 2.06.94-2.06 2.06-.94-2.06-.94-.94-2.06-.94 2.06-2.06.94zm-11 1L8.5 8.5l.94-2.06 2.06-.94-2.06-.94L8.5 2.5l-.94 2.06-2.06.94zm10 10l.94 2.06.94-2.06 2.06-.94-2.06-.94-.94-2.06-.94 2.06-2.06.94z\"/><path d=\"M17.41 7.96l-1.37-1.37c-.4-.4-.92-.59-1.43-.59-.52 0-1.04.2-1.43.59L10.3 9.45l-7.72 7.72c-.78.78-.78 2.05 0 2.83L4 21.41c.39.39.9.59 1.41.59.51 0 1.02-.2 1.41-.59l7.78-7.78 2.81-2.81c.8-.78.8-2.07 0-2.86zM5.41 20L4 18.59l7.72-7.72 1.47 1.35L5.41 20z\"/>\n",
              "  </svg>\n",
              "      </button>\n",
              "      \n",
              "  <style>\n",
              "    .colab-df-container {\n",
              "      display:flex;\n",
              "      flex-wrap:wrap;\n",
              "      gap: 12px;\n",
              "    }\n",
              "\n",
              "    .colab-df-convert {\n",
              "      background-color: #E8F0FE;\n",
              "      border: none;\n",
              "      border-radius: 50%;\n",
              "      cursor: pointer;\n",
              "      display: none;\n",
              "      fill: #1967D2;\n",
              "      height: 32px;\n",
              "      padding: 0 0 0 0;\n",
              "      width: 32px;\n",
              "    }\n",
              "\n",
              "    .colab-df-convert:hover {\n",
              "      background-color: #E2EBFA;\n",
              "      box-shadow: 0px 1px 2px rgba(60, 64, 67, 0.3), 0px 1px 3px 1px rgba(60, 64, 67, 0.15);\n",
              "      fill: #174EA6;\n",
              "    }\n",
              "\n",
              "    [theme=dark] .colab-df-convert {\n",
              "      background-color: #3B4455;\n",
              "      fill: #D2E3FC;\n",
              "    }\n",
              "\n",
              "    [theme=dark] .colab-df-convert:hover {\n",
              "      background-color: #434B5C;\n",
              "      box-shadow: 0px 1px 3px 1px rgba(0, 0, 0, 0.15);\n",
              "      filter: drop-shadow(0px 1px 2px rgba(0, 0, 0, 0.3));\n",
              "      fill: #FFFFFF;\n",
              "    }\n",
              "  </style>\n",
              "\n",
              "      <script>\n",
              "        const buttonEl =\n",
              "          document.querySelector('#df-fa60ca4e-905d-4dcf-af8a-237100ed6622 button.colab-df-convert');\n",
              "        buttonEl.style.display =\n",
              "          google.colab.kernel.accessAllowed ? 'block' : 'none';\n",
              "\n",
              "        async function convertToInteractive(key) {\n",
              "          const element = document.querySelector('#df-fa60ca4e-905d-4dcf-af8a-237100ed6622');\n",
              "          const dataTable =\n",
              "            await google.colab.kernel.invokeFunction('convertToInteractive',\n",
              "                                                     [key], {});\n",
              "          if (!dataTable) return;\n",
              "\n",
              "          const docLinkHtml = 'Like what you see? Visit the ' +\n",
              "            '<a target=\"_blank\" href=https://colab.research.google.com/notebooks/data_table.ipynb>data table notebook</a>'\n",
              "            + ' to learn more about interactive tables.';\n",
              "          element.innerHTML = '';\n",
              "          dataTable['output_type'] = 'display_data';\n",
              "          await google.colab.output.renderOutput(dataTable, element);\n",
              "          const docLink = document.createElement('div');\n",
              "          docLink.innerHTML = docLinkHtml;\n",
              "          element.appendChild(docLink);\n",
              "        }\n",
              "      </script>\n",
              "    </div>\n",
              "  </div>\n",
              "  "
            ]
          },
          "metadata": {},
          "execution_count": 3
        }
      ]
    },
    {
      "cell_type": "code",
      "source": [
        "dataframe.info()"
      ],
      "metadata": {
        "colab": {
          "base_uri": "https://localhost:8080/"
        },
        "id": "1-PisGeJuDWj",
        "outputId": "996cf5c6-ee7b-4f52-aa1a-6b7fcc585856"
      },
      "execution_count": 4,
      "outputs": [
        {
          "output_type": "stream",
          "name": "stdout",
          "text": [
            "<class 'pandas.core.frame.DataFrame'>\n",
            "RangeIndex: 1009 entries, 0 to 1008\n",
            "Data columns (total 7 columns):\n",
            " #   Column     Non-Null Count  Dtype  \n",
            "---  ------     --------------  -----  \n",
            " 0   Date       1009 non-null   object \n",
            " 1   Open       1009 non-null   float64\n",
            " 2   High       1009 non-null   float64\n",
            " 3   Low        1009 non-null   float64\n",
            " 4   Close      1009 non-null   float64\n",
            " 5   Adj Close  1009 non-null   float64\n",
            " 6   Volume     1009 non-null   int64  \n",
            "dtypes: float64(5), int64(1), object(1)\n",
            "memory usage: 55.3+ KB\n"
          ]
        }
      ]
    },
    {
      "cell_type": "code",
      "source": [
        "dataframe.columns"
      ],
      "metadata": {
        "colab": {
          "base_uri": "https://localhost:8080/"
        },
        "id": "h9lVB1PIvLxN",
        "outputId": "5893f44e-d095-4aa7-b0a1-6afc0724959a"
      },
      "execution_count": 5,
      "outputs": [
        {
          "output_type": "execute_result",
          "data": {
            "text/plain": [
              "Index(['Date', 'Open', 'High', 'Low', 'Close', 'Adj Close', 'Volume'], dtype='object')"
            ]
          },
          "metadata": {},
          "execution_count": 5
        }
      ]
    },
    {
      "cell_type": "code",
      "source": [
        "dataframe.shape"
      ],
      "metadata": {
        "colab": {
          "base_uri": "https://localhost:8080/"
        },
        "id": "TuGkV9mbjpg9",
        "outputId": "92f0e47d-0108-4f7d-8f15-c1019dfeca48"
      },
      "execution_count": 6,
      "outputs": [
        {
          "output_type": "execute_result",
          "data": {
            "text/plain": [
              "(1009, 7)"
            ]
          },
          "metadata": {},
          "execution_count": 6
        }
      ]
    },
    {
      "cell_type": "code",
      "source": [],
      "metadata": {
        "id": "j1hEaPgG2mtg"
      },
      "execution_count": null,
      "outputs": []
    },
    {
      "cell_type": "markdown",
      "source": [
        "**Netflix stock price prediction analysis**"
      ],
      "metadata": {
        "id": "R75HXuCB1Gii"
      }
    },
    {
      "cell_type": "code",
      "source": [
        "dataframe['Adj Close'].plot()"
      ],
      "metadata": {
        "colab": {
          "base_uri": "https://localhost:8080/",
          "height": 282
        },
        "id": "gylToe_WiQ1r",
        "outputId": "0bd179ea-d3d1-454f-cc20-2aca2df9038c"
      },
      "execution_count": 10,
      "outputs": [
        {
          "output_type": "execute_result",
          "data": {
            "text/plain": [
              "<matplotlib.axes._subplots.AxesSubplot at 0x7f00ef214ac0>"
            ]
          },
          "metadata": {},
          "execution_count": 10
        },
        {
          "output_type": "display_data",
          "data": {
            "text/plain": [
              "<Figure size 432x288 with 1 Axes>"
            ],
            "image/png": "[encoded data removed]"
          },
          "metadata": {
            "needs_background": "light"
          }
        }
      ]
    },
    {
      "cell_type": "code",
      "source": [
        "plt.figure(figsize = (15,5))\n",
        "dataframe['Close'].plot();"
      ],
      "metadata": {
        "colab": {
          "base_uri": "https://localhost:8080/",
          "height": 313
        },
        "id": "_EW-KfxV0qQj",
        "outputId": "5ae16773-920c-4c12-855a-2c3a887ba374"
      },
      "execution_count": 11,
      "outputs": [
        {
          "output_type": "display_data",
          "data": {
            "text/plain": [
              "<Figure size 1080x360 with 1 Axes>"
            ],
            "image/png": "[encoded data removed]"
          },
          "metadata": {
            "needs_background": "light"
          }
        }
      ]
    },
    {
      "cell_type": "code",
      "source": [
        "#Function for time series analysis\n",
        "def test_stationarity(timeseries):\n",
        "    #Determing rolling statistics\n",
        "    MA = timeseries.rolling(window=5).mean()\n",
        "    MSTD = timeseries.rolling(window=5).std()\n",
        "\n",
        "    #Plot rolling statistics:\n",
        "    plt.figure(figsize=(15,5))\n",
        "    orig = plt.plot(timeseries, color='blue',label='Original')\n",
        "    mean = plt.plot(MA, color='red', label='Rolling Mean')\n",
        "    std = plt.plot(MSTD, color='black', label = 'Rolling Std')\n",
        "    plt.legend(loc='best')\n",
        "    plt.title('Rolling Mean & Standard Deviation')\n",
        "    plt.show(block=False)\n",
        "\n",
        "    #Perform Dickey-Fuller test:\n",
        "#the Dickey–Fuller test tests the null hypothesis that a unit root is present in an autoregressive time series model.\n",
        "# The alternative hypothesis is different depending on which version of the test is used, but is usually stationarity or trend-stationarity.\n",
        "    print('Results of Dickey-Fuller Test:')\n",
        "    dftest = adfuller(timeseries, autolag='AIC')\n",
        "    dfoutput = pd.Series(dftest[0:4], index=['Test Statistic','p-value','#Lags Used','Number of Observations Used'])\n",
        "    for key,value in dftest[4].items():\n",
        "        dfoutput['Critical Value (%s)'%key] = value\n",
        "    print(dfoutput)"
      ],
      "metadata": {
        "id": "0T3X9Ow-1nKh"
      },
      "execution_count": 12,
      "outputs": []
    },
    {
      "cell_type": "code",
      "source": [
        "def tsplot(y, lags=None, figsize=(12, 7), style='bmh'):\n",
        "    if not isinstance(y, pd.Series):\n",
        "        y = pd.Series(y)\n",
        "        \n",
        "    with plt.style.context(style):    \n",
        "        fig = plt.figure(figsize=figsize)\n",
        "        layout = (2, 2)\n",
        "        ts_ax = plt.subplot2grid(layout, (0, 0), colspan=2)\n",
        "        acf_ax = plt.subplot2grid(layout, (1, 0))\n",
        "        pacf_ax = plt.subplot2grid(layout, (1, 1))\n",
        "        \n",
        "        y.plot(ax=ts_ax)\n",
        "        p_value = sm.tsa.stattools.adfuller(y)[1]\n",
        "        ts_ax.set_title('Time Series Analysis Plots\\n Dickey-Fuller: p={0:.5f}'.format(p_value))\n",
        "        smt.graphics.plot_acf(y, lags=lags, ax=acf_ax)\n",
        "        smt.graphics.plot_pacf(y, lags=lags, ax=pacf_ax)\n",
        "        plt.tight_layout()"
      ],
      "metadata": {
        "id": "eAciGhcQ2eKA"
      },
      "execution_count": 13,
      "outputs": []
    },
    {
      "cell_type": "code",
      "source": [
        "dec = sm.tsa.seasonal_decompose(dataframe['Close'],period = 5, model = 'additive').plot()\n",
        "plt.show()"
      ],
      "metadata": {
        "colab": {
          "base_uri": "https://localhost:8080/",
          "height": 297
        },
        "id": "HPaL46KS2oDf",
        "outputId": "b6dbac55-bb3d-430b-b351-aab1fb3e8dd0"
      },
      "execution_count": 34,
      "outputs": [
        {
          "output_type": "display_data",
          "data": {
            "text/plain": [
              "<Figure size 432x288 with 4 Axes>"
            ],
            "image/png": "[encoded data removed]"
          },
          "metadata": {
            "needs_background": "light"
          }
        }
      ]
    },
    {
      "cell_type": "code",
      "source": [
        "#Stationary test for closing price\n",
        "test_stationarity(dataframe['Close'])"
      ],
      "metadata": {
        "colab": {
          "base_uri": "https://localhost:8080/",
          "height": 482
        },
        "id": "F2XrYleN25_h",
        "outputId": "0485970c-d705-400e-eea1-164087364c20"
      },
      "execution_count": 35,
      "outputs": [
        {
          "output_type": "display_data",
          "data": {
            "text/plain": [
              "<Figure size 1080x360 with 1 Axes>"
            ],
            "image/png": "[encoded data removed]"
          },
          "metadata": {
            "needs_background": "light"
          }
        },
        {
          "output_type": "stream",
          "name": "stdout",
          "text": [
            "Results of Dickey-Fuller Test:\n",
            "Test Statistic                   -1.812591\n",
            "p-value                           0.374229\n",
            "#Lags Used                        6.000000\n",
            "Number of Observations Used    1002.000000\n",
            "Critical Value (1%)              -3.436893\n",
            "Critical Value (5%)              -2.864429\n",
            "Critical Value (10%)             -2.568308\n",
            "dtype: float64\n"
          ]
        }
      ]
    },
    {
      "cell_type": "code",
      "source": [
        "#Duckey Fuller Test of closing price with acf and pacf plot\n",
        "tsplot(dataframe['Close'])"
      ],
      "metadata": {
        "colab": {
          "base_uri": "https://localhost:8080/",
          "height": 513
        },
        "id": "SPsHOra13KyR",
        "outputId": "fd330b5b-c3ed-4ea2-f987-1923c299ccfb"
      },
      "execution_count": 40,
      "outputs": [
        {
          "output_type": "display_data",
          "data": {
            "text/plain": [
              "<Figure size 864x504 with 3 Axes>"
            ],
            "image/png": "[encoded data removed]"
          },
          "metadata": {
            "needs_background": "light"
          }
        }
      ]
    },
    {
      "cell_type": "code",
      "source": [
        "model = ARIMA(dataframe['Close'],order = (1,1,1))\n",
        "model_fit = model.fit()\n",
        "print(model_fit.summary())"
      ],
      "metadata": {
        "colab": {
          "base_uri": "https://localhost:8080/"
        },
        "id": "YpJzYUjp3zMo",
        "outputId": "e9e37abe-405f-4ef5-e469-ce71d09c22b5"
      },
      "execution_count": 42,
      "outputs": [
        {
          "output_type": "stream",
          "name": "stdout",
          "text": [
            "                               SARIMAX Results                                \n",
            "==============================================================================\n",
            "Dep. Variable:                  Close   No. Observations:                 1009\n",
            "Model:                 ARIMA(1, 1, 1)   Log Likelihood               -3850.029\n",
            "Date:                Mon, 23 Jan 2023   AIC                           7706.058\n",
            "Time:                        19:30:00   BIC                           7720.805\n",
            "Sample:                             0   HQIC                          7711.660\n",
            "                               - 1009                                         \n",
            "Covariance Type:                  opg                                         \n",
            "==============================================================================\n",
            "                 coef    std err          z      P>|z|      [0.025      0.975]\n",
            "------------------------------------------------------------------------------\n",
            "ar.L1         -0.8798      0.119     -7.414      0.000      -1.112      -0.647\n",
            "ma.L1          0.8509      0.133      6.388      0.000       0.590       1.112\n",
            "sigma2       121.6347      1.982     61.374      0.000     117.750     125.519\n",
            "===================================================================================\n",
            "Ljung-Box (L1) (Q):                   0.39   Jarque-Bera (JB):              9518.73\n",
            "Prob(Q):                              0.53   Prob(JB):                         0.00\n",
            "Heteroskedasticity (H):               2.26   Skew:                            -0.69\n",
            "Prob(H) (two-sided):                  0.00   Kurtosis:                        17.99\n",
            "===================================================================================\n",
            "\n",
            "Warnings:\n",
            "[1] Covariance matrix calculated using the outer product of gradients (complex-step).\n"
          ]
        }
      ]
    },
    {
      "cell_type": "markdown",
      "source": [
        "**A long short-term memory network is a type of recurrent neural network (RNN). LSTMs are predominately used to learn, process, and classify sequential data because these networks can learn long-term dependencies between time steps of data.**"
      ],
      "metadata": {
        "id": "dD3RxLXzz71B"
      }
    },
    {
      "cell_type": "code",
      "source": [
        "# working with LSTM\n",
        "# setting target variable, which will be used as the value that will be predicted by the LSTM model, then outputted\n",
        "output_var = pd.DataFrame(dataframe['Adj Close']) \n"
      ],
      "metadata": {
        "id": "RvQB8jDhj4t8"
      },
      "execution_count": 16,
      "outputs": []
    },
    {
      "cell_type": "code",
      "source": [
        "features = ['Open', 'High', 'Low', 'Volume']\n",
        "# independent variables to the target variable above"
      ],
      "metadata": {
        "id": "wZ66ctr8kOdZ"
      },
      "execution_count": 17,
      "outputs": []
    },
    {
      "cell_type": "code",
      "source": [
        "#Scaling the csv values down to cut down on memory consumption \n",
        "scaler = MinMaxScaler()\n",
        "feature_tf = scaler.fit_transform(dataframe[features])\n",
        "feature_tf = pd.DataFrame(columns = features, data = feature_tf, index = dataframe.index)\n",
        "feature_tf.head()"
      ],
      "metadata": {
        "colab": {
          "base_uri": "https://localhost:8080/",
          "height": 204
        },
        "id": "aVJlO8d0kW6e",
        "outputId": "04622206-ba27-4edf-b385-c80f8391f41b"
      },
      "execution_count": 18,
      "outputs": [
        {
          "output_type": "execute_result",
          "data": {
            "text/plain": [
              "       Open      High       Low    Volume\n",
              "0  0.061253  0.038304  0.041331  0.186150\n",
              "1  0.030059  0.035640  0.030273  0.198264\n",
              "2  0.071243  0.048408  0.072770  0.135690\n",
              "3  0.072334  0.037683  0.041265  0.141320\n",
              "4  0.043474  0.011436  0.010729  0.272902"
            ],
            "text/html": [
              "\n",
              "  <div id=\"df-8bfd4c79-5f25-47de-96ee-d371ca87cbe8\">\n",
              "    <div class=\"colab-df-container\">\n",
              "      <div>\n",
              "<style scoped>\n",
              "    .dataframe tbody tr th:only-of-type {\n",
              "        vertical-align: middle;\n",
              "    }\n",
              "\n",
              "    .dataframe tbody tr th {\n",
              "        vertical-align: top;\n",
              "    }\n",
              "\n",
              "    .dataframe thead th {\n",
              "        text-align: right;\n",
              "    }\n",
              "</style>\n",
              "<table border=\"1\" class=\"dataframe\">\n",
              "  <thead>\n",
              "    <tr style=\"text-align: right;\">\n",
              "      <th></th>\n",
              "      <th>Open</th>\n",
              "      <th>High</th>\n",
              "      <th>Low</th>\n",
              "      <th>Volume</th>\n",
              "    </tr>\n",
              "  </thead>\n",
              "  <tbody>\n",
              "    <tr>\n",
              "      <th>0</th>\n",
              "      <td>0.061253</td>\n",
              "      <td>0.038304</td>\n",
              "      <td>0.041331</td>\n",
              "      <td>0.186150</td>\n",
              "    </tr>\n",
              "    <tr>\n",
              "      <th>1</th>\n",
              "      <td>0.030059</td>\n",
              "      <td>0.035640</td>\n",
              "      <td>0.030273</td>\n",
              "      <td>0.198264</td>\n",
              "    </tr>\n",
              "    <tr>\n",
              "      <th>2</th>\n",
              "      <td>0.071243</td>\n",
              "      <td>0.048408</td>\n",
              "      <td>0.072770</td>\n",
              "      <td>0.135690</td>\n",
              "    </tr>\n",
              "    <tr>\n",
              "      <th>3</th>\n",
              "      <td>0.072334</td>\n",
              "      <td>0.037683</td>\n",
              "      <td>0.041265</td>\n",
              "      <td>0.141320</td>\n",
              "    </tr>\n",
              "    <tr>\n",
              "      <th>4</th>\n",
              "      <td>0.043474</td>\n",
              "      <td>0.011436</td>\n",
              "      <td>0.010729</td>\n",
              "      <td>0.272902</td>\n",
              "    </tr>\n",
              "  </tbody>\n",
              "</table>\n",
              "</div>\n",
              "      <button class=\"colab-df-convert\" onclick=\"convertToInteractive('df-8bfd4c79-5f25-47de-96ee-d371ca87cbe8')\"\n",
              "              title=\"Convert this dataframe to an interactive table.\"\n",
              "              style=\"display:none;\">\n",
              "        \n",
              "  <svg xmlns=\"http://www.w3.org/2000/svg\" height=\"24px\"viewBox=\"0 0 24 24\"\n",
              "       width=\"24px\">\n",
              "    <path d=\"M0 0h24v24H0V0z\" fill=\"none\"/>\n",
              "    <path d=\"M18.56 5.44l.94 2.06.94-2.06 2.06-.94-2.06-.94-.94-2.06-.94 2.06-2.06.94zm-11 1L8.5 8.5l.94-2.06 2.06-.94-2.06-.94L8.5 2.5l-.94 2.06-2.06.94zm10 10l.94 2.06.94-2.06 2.06-.94-2.06-.94-.94-2.06-.94 2.06-2.06.94z\"/><path d=\"M17.41 7.96l-1.37-1.37c-.4-.4-.92-.59-1.43-.59-.52 0-1.04.2-1.43.59L10.3 9.45l-7.72 7.72c-.78.78-.78 2.05 0 2.83L4 21.41c.39.39.9.59 1.41.59.51 0 1.02-.2 1.41-.59l7.78-7.78 2.81-2.81c.8-.78.8-2.07 0-2.86zM5.41 20L4 18.59l7.72-7.72 1.47 1.35L5.41 20z\"/>\n",
              "  </svg>\n",
              "      </button>\n",
              "      \n",
              "  <style>\n",
              "    .colab-df-container {\n",
              "      display:flex;\n",
              "      flex-wrap:wrap;\n",
              "      gap: 12px;\n",
              "    }\n",
              "\n",
              "    .colab-df-convert {\n",
              "      background-color: #E8F0FE;\n",
              "      border: none;\n",
              "      border-radius: 50%;\n",
              "      cursor: pointer;\n",
              "      display: none;\n",
              "      fill: #1967D2;\n",
              "      height: 32px;\n",
              "      padding: 0 0 0 0;\n",
              "      width: 32px;\n",
              "    }\n",
              "\n",
              "    .colab-df-convert:hover {\n",
              "      background-color: #E2EBFA;\n",
              "      box-shadow: 0px 1px 2px rgba(60, 64, 67, 0.3), 0px 1px 3px 1px rgba(60, 64, 67, 0.15);\n",
              "      fill: #174EA6;\n",
              "    }\n",
              "\n",
              "    [theme=dark] .colab-df-convert {\n",
              "      background-color: #3B4455;\n",
              "      fill: #D2E3FC;\n",
              "    }\n",
              "\n",
              "    [theme=dark] .colab-df-convert:hover {\n",
              "      background-color: #434B5C;\n",
              "      box-shadow: 0px 1px 3px 1px rgba(0, 0, 0, 0.15);\n",
              "      filter: drop-shadow(0px 1px 2px rgba(0, 0, 0, 0.3));\n",
              "      fill: #FFFFFF;\n",
              "    }\n",
              "  </style>\n",
              "\n",
              "      <script>\n",
              "        const buttonEl =\n",
              "          document.querySelector('#df-8bfd4c79-5f25-47de-96ee-d371ca87cbe8 button.colab-df-convert');\n",
              "        buttonEl.style.display =\n",
              "          google.colab.kernel.accessAllowed ? 'block' : 'none';\n",
              "\n",
              "        async function convertToInteractive(key) {\n",
              "          const element = document.querySelector('#df-8bfd4c79-5f25-47de-96ee-d371ca87cbe8');\n",
              "          const dataTable =\n",
              "            await google.colab.kernel.invokeFunction('convertToInteractive',\n",
              "                                                     [key], {});\n",
              "          if (!dataTable) return;\n",
              "\n",
              "          const docLinkHtml = 'Like what you see? Visit the ' +\n",
              "            '<a target=\"_blank\" href=https://colab.research.google.com/notebooks/data_table.ipynb>data table notebook</a>'\n",
              "            + ' to learn more about interactive tables.';\n",
              "          element.innerHTML = '';\n",
              "          dataTable['output_type'] = 'display_data';\n",
              "          await google.colab.output.renderOutput(dataTable, element);\n",
              "          const docLink = document.createElement('div');\n",
              "          docLink.innerHTML = docLinkHtml;\n",
              "          element.appendChild(docLink);\n",
              "        }\n",
              "      </script>\n",
              "    </div>\n",
              "  </div>\n",
              "  "
            ]
          },
          "metadata": {},
          "execution_count": 18
        }
      ]
    },
    {
      "cell_type": "code",
      "source": [
        "#Spliting the csv data into sets for training the model (90% of the data) and testing the model (10% of the data)\n",
        "timesplit = TimeSeriesSplit(n_splits=10) \n",
        "for train_index, test_index in timesplit.split(feature_tf):\n",
        "        X_train, X_test = feature_tf[:len(train_index)], feature_tf[len(train_index): (len(train_index)+len(test_index))]\n",
        "        y_train, y_test = output_var[:len(train_index)].values.ravel(), output_var[len(train_index): (len(train_index)+len(test_index))].values.ravel()"
      ],
      "metadata": {
        "id": "atBAeBy_lUHS"
      },
      "execution_count": 19,
      "outputs": []
    },
    {
      "cell_type": "code",
      "source": [
        "# processing the data for the LSTM\n",
        "trainX =np.array(X_train)\n",
        "testX =np.array(X_test)\n",
        "X_train = trainX.reshape(X_train.shape[0], 1, X_train.shape[1])\n",
        "X_test = testX.reshape(X_test.shape[0], 1, X_test.shape[1])"
      ],
      "metadata": {
        "id": "by8PPV6Eoqjx"
      },
      "execution_count": 20,
      "outputs": []
    },
    {
      "cell_type": "code",
      "source": [
        "X_train.shape"
      ],
      "metadata": {
        "colab": {
          "base_uri": "https://localhost:8080/"
        },
        "id": "5cMsmv8Ooxhb",
        "outputId": "abe7695a-59c5-4f41-dd74-192a1b12a993"
      },
      "execution_count": 21,
      "outputs": [
        {
          "output_type": "execute_result",
          "data": {
            "text/plain": [
              "(918, 1, 4)"
            ]
          },
          "metadata": {},
          "execution_count": 21
        }
      ]
    },
    {
      "cell_type": "code",
      "source": [
        "X_test.shape # displays the shape of X_train and X_test"
      ],
      "metadata": {
        "colab": {
          "base_uri": "https://localhost:8080/"
        },
        "id": "ZJnvXzG3o1n1",
        "outputId": "4fe2685b-e1cd-47bc-881b-3645e646006a"
      },
      "execution_count": 22,
      "outputs": [
        {
          "output_type": "execute_result",
          "data": {
            "text/plain": [
              "(91, 1, 4)"
            ]
          },
          "metadata": {},
          "execution_count": 22
        }
      ]
    },
    {
      "cell_type": "code",
      "source": [
        "#Building the LSTM Model\n",
        "lstm = Sequential()\n",
        "lstm.add(LSTM(32, input_shape=(1, trainX.shape[1]), activation='relu', return_sequences=False))\n",
        "lstm.add(Dense(1)) \n",
        "lstm.compile(loss='mean_absolute_error', optimizer='adam')"
      ],
      "metadata": {
        "id": "iEuX_QABo7Xn"
      },
      "execution_count": 25,
      "outputs": []
    },
    {
      "cell_type": "code",
      "source": [
        "lstm.summary()"
      ],
      "metadata": {
        "colab": {
          "base_uri": "https://localhost:8080/"
        },
        "id": "mzPA8IYP_81N",
        "outputId": "c4f9ff24-aa53-4468-d6b5-920bd0daeb47"
      },
      "execution_count": 33,
      "outputs": [
        {
          "output_type": "stream",
          "name": "stdout",
          "text": [
            "Model: \"sequential_1\"\n",
            "_________________________________________________________________\n",
            " Layer (type)                Output Shape              Param #   \n",
            "=================================================================\n",
            " lstm_1 (LSTM)               (None, 32)                4736      \n",
            "                                                                 \n",
            " dense_1 (Dense)             (None, 1)                 33        \n",
            "                                                                 \n",
            "=================================================================\n",
            "Total params: 4,769\n",
            "Trainable params: 4,769\n",
            "Non-trainable params: 0\n",
            "_________________________________________________________________\n"
          ]
        }
      ]
    },
    {
      "cell_type": "code",
      "source": [
        "model = lstm.fit(X_train, y_train, epochs = 150, batch_size = 8, verbose = 1)\n",
        "# training the model on 150 epochs"
      ],
      "metadata": {
        "colab": {
          "base_uri": "https://localhost:8080/"
        },
        "id": "h4rFpAZdpBww",
        "outputId": "e8d2d83b-f676-4447-db12-ac572457e6d5"
      },
      "execution_count": 26,
      "outputs": [
        {
          "output_type": "stream",
          "name": "stdout",
          "text": [
            "Epoch 1/150\n",
            "115/115 [==============================] - 2s 2ms/step - loss: 401.4034\n",
            "Epoch 2/150\n",
            "115/115 [==============================] - 0s 3ms/step - loss: 400.6705\n",
            "Epoch 3/150\n",
            "115/115 [==============================] - 0s 3ms/step - loss: 398.8097\n",
            "Epoch 4/150\n",
            "115/115 [==============================] - 1s 5ms/step - loss: 395.3901\n",
            "Epoch 5/150\n",
            "115/115 [==============================] - 0s 4ms/step - loss: 390.3963\n",
            "Epoch 6/150\n",
            "115/115 [==============================] - 0s 2ms/step - loss: 384.0186\n",
            "Epoch 7/150\n",
            "115/115 [==============================] - 0s 2ms/step - loss: 376.4724\n",
            "Epoch 8/150\n",
            "115/115 [==============================] - 0s 2ms/step - loss: 367.9189\n",
            "Epoch 9/150\n",
            "115/115 [==============================] - 0s 2ms/step - loss: 358.4503\n",
            "Epoch 10/150\n",
            "115/115 [==============================] - 0s 3ms/step - loss: 348.1545\n",
            "Epoch 11/150\n",
            "115/115 [==============================] - 0s 2ms/step - loss: 337.0757\n",
            "Epoch 12/150\n",
            "115/115 [==============================] - 0s 2ms/step - loss: 325.2491\n",
            "Epoch 13/150\n",
            "115/115 [==============================] - 0s 2ms/step - loss: 312.7430\n",
            "Epoch 14/150\n",
            "115/115 [==============================] - 0s 3ms/step - loss: 299.5584\n",
            "Epoch 15/150\n",
            "115/115 [==============================] - 0s 2ms/step - loss: 285.7302\n",
            "Epoch 16/150\n",
            "115/115 [==============================] - 0s 2ms/step - loss: 271.2773\n",
            "Epoch 17/150\n",
            "115/115 [==============================] - 0s 3ms/step - loss: 256.2101\n",
            "Epoch 18/150\n",
            "115/115 [==============================] - 0s 3ms/step - loss: 240.5393\n",
            "Epoch 19/150\n",
            "115/115 [==============================] - 0s 2ms/step - loss: 224.2994\n",
            "Epoch 20/150\n",
            "115/115 [==============================] - 0s 3ms/step - loss: 207.4852\n",
            "Epoch 21/150\n",
            "115/115 [==============================] - 0s 3ms/step - loss: 190.1167\n",
            "Epoch 22/150\n",
            "115/115 [==============================] - 0s 2ms/step - loss: 172.1904\n",
            "Epoch 23/150\n",
            "115/115 [==============================] - 0s 2ms/step - loss: 153.7222\n",
            "Epoch 24/150\n",
            "115/115 [==============================] - 0s 2ms/step - loss: 134.7125\n",
            "Epoch 25/150\n",
            "115/115 [==============================] - 0s 3ms/step - loss: 115.1730\n",
            "Epoch 26/150\n",
            "115/115 [==============================] - 0s 2ms/step - loss: 95.1723\n",
            "Epoch 27/150\n",
            "115/115 [==============================] - 0s 3ms/step - loss: 74.7681\n",
            "Epoch 28/150\n",
            "115/115 [==============================] - 0s 3ms/step - loss: 54.1584\n",
            "Epoch 29/150\n",
            "115/115 [==============================] - 0s 2ms/step - loss: 34.5509\n",
            "Epoch 30/150\n",
            "115/115 [==============================] - 0s 2ms/step - loss: 19.6637\n",
            "Epoch 31/150\n",
            "115/115 [==============================] - 0s 3ms/step - loss: 15.3082\n",
            "Epoch 32/150\n",
            "115/115 [==============================] - 0s 2ms/step - loss: 14.7760\n",
            "Epoch 33/150\n",
            "115/115 [==============================] - 0s 2ms/step - loss: 14.3845\n",
            "Epoch 34/150\n",
            "115/115 [==============================] - 0s 2ms/step - loss: 14.0105\n",
            "Epoch 35/150\n",
            "115/115 [==============================] - 0s 2ms/step - loss: 13.6289\n",
            "Epoch 36/150\n",
            "115/115 [==============================] - 0s 2ms/step - loss: 13.2900\n",
            "Epoch 37/150\n",
            "115/115 [==============================] - 0s 2ms/step - loss: 12.9546\n",
            "Epoch 38/150\n",
            "115/115 [==============================] - 0s 2ms/step - loss: 12.6295\n",
            "Epoch 39/150\n",
            "115/115 [==============================] - 0s 2ms/step - loss: 12.3127\n",
            "Epoch 40/150\n",
            "115/115 [==============================] - 0s 2ms/step - loss: 12.0053\n",
            "Epoch 41/150\n",
            "115/115 [==============================] - 0s 2ms/step - loss: 11.7182\n",
            "Epoch 42/150\n",
            "115/115 [==============================] - 0s 2ms/step - loss: 11.4761\n",
            "Epoch 43/150\n",
            "115/115 [==============================] - 0s 2ms/step - loss: 11.2369\n",
            "Epoch 44/150\n",
            "115/115 [==============================] - 0s 2ms/step - loss: 11.0252\n",
            "Epoch 45/150\n",
            "115/115 [==============================] - 0s 2ms/step - loss: 10.8215\n",
            "Epoch 46/150\n",
            "115/115 [==============================] - 0s 2ms/step - loss: 10.6207\n",
            "Epoch 47/150\n",
            "115/115 [==============================] - 0s 2ms/step - loss: 10.4462\n",
            "Epoch 48/150\n",
            "115/115 [==============================] - 0s 2ms/step - loss: 10.2653\n",
            "Epoch 49/150\n",
            "115/115 [==============================] - 0s 2ms/step - loss: 10.1049\n",
            "Epoch 50/150\n",
            "115/115 [==============================] - 0s 3ms/step - loss: 9.9563\n",
            "Epoch 51/150\n",
            "115/115 [==============================] - 0s 2ms/step - loss: 9.8099\n",
            "Epoch 52/150\n",
            "115/115 [==============================] - 0s 2ms/step - loss: 9.6771\n",
            "Epoch 53/150\n",
            "115/115 [==============================] - 0s 2ms/step - loss: 9.5156\n",
            "Epoch 54/150\n",
            "115/115 [==============================] - 0s 2ms/step - loss: 9.3877\n",
            "Epoch 55/150\n",
            "115/115 [==============================] - 0s 2ms/step - loss: 9.2569\n",
            "Epoch 56/150\n",
            "115/115 [==============================] - 0s 2ms/step - loss: 9.1299\n",
            "Epoch 57/150\n",
            "115/115 [==============================] - 0s 3ms/step - loss: 9.0027\n",
            "Epoch 58/150\n",
            "115/115 [==============================] - 0s 3ms/step - loss: 8.8693\n",
            "Epoch 59/150\n",
            "115/115 [==============================] - 0s 3ms/step - loss: 8.7378\n",
            "Epoch 60/150\n",
            "115/115 [==============================] - 0s 3ms/step - loss: 8.6069\n",
            "Epoch 61/150\n",
            "115/115 [==============================] - 0s 3ms/step - loss: 8.4940\n",
            "Epoch 62/150\n",
            "115/115 [==============================] - 0s 3ms/step - loss: 8.3758\n",
            "Epoch 63/150\n",
            "115/115 [==============================] - 0s 2ms/step - loss: 8.2603\n",
            "Epoch 64/150\n",
            "115/115 [==============================] - 0s 2ms/step - loss: 8.1459\n",
            "Epoch 65/150\n",
            "115/115 [==============================] - 0s 2ms/step - loss: 8.0472\n",
            "Epoch 66/150\n",
            "115/115 [==============================] - 0s 2ms/step - loss: 7.9145\n",
            "Epoch 67/150\n",
            "115/115 [==============================] - 0s 2ms/step - loss: 7.8029\n",
            "Epoch 68/150\n",
            "115/115 [==============================] - 0s 2ms/step - loss: 7.7012\n",
            "Epoch 69/150\n",
            "115/115 [==============================] - 0s 2ms/step - loss: 7.5851\n",
            "Epoch 70/150\n",
            "115/115 [==============================] - 0s 2ms/step - loss: 7.4845\n",
            "Epoch 71/150\n",
            "115/115 [==============================] - 0s 3ms/step - loss: 7.3980\n",
            "Epoch 72/150\n",
            "115/115 [==============================] - 0s 2ms/step - loss: 7.2812\n",
            "Epoch 73/150\n",
            "115/115 [==============================] - 0s 2ms/step - loss: 7.1735\n",
            "Epoch 74/150\n",
            "115/115 [==============================] - 0s 2ms/step - loss: 7.0885\n",
            "Epoch 75/150\n",
            "115/115 [==============================] - 0s 2ms/step - loss: 6.9830\n",
            "Epoch 76/150\n",
            "115/115 [==============================] - 0s 2ms/step - loss: 6.8789\n",
            "Epoch 77/150\n",
            "115/115 [==============================] - 0s 2ms/step - loss: 6.7883\n",
            "Epoch 78/150\n",
            "115/115 [==============================] - 0s 2ms/step - loss: 6.6848\n",
            "Epoch 79/150\n",
            "115/115 [==============================] - 0s 2ms/step - loss: 6.5844\n",
            "Epoch 80/150\n",
            "115/115 [==============================] - 0s 2ms/step - loss: 6.4951\n",
            "Epoch 81/150\n",
            "115/115 [==============================] - 0s 2ms/step - loss: 6.4163\n",
            "Epoch 82/150\n",
            "115/115 [==============================] - 0s 3ms/step - loss: 6.3150\n",
            "Epoch 83/150\n",
            "115/115 [==============================] - 0s 3ms/step - loss: 6.2454\n",
            "Epoch 84/150\n",
            "115/115 [==============================] - 0s 3ms/step - loss: 6.1485\n",
            "Epoch 85/150\n",
            "115/115 [==============================] - 0s 3ms/step - loss: 6.0436\n",
            "Epoch 86/150\n",
            "115/115 [==============================] - 0s 2ms/step - loss: 5.9530\n",
            "Epoch 87/150\n",
            "115/115 [==============================] - 0s 2ms/step - loss: 5.8877\n",
            "Epoch 88/150\n",
            "115/115 [==============================] - 0s 2ms/step - loss: 5.8087\n",
            "Epoch 89/150\n",
            "115/115 [==============================] - 0s 3ms/step - loss: 5.7331\n",
            "Epoch 90/150\n",
            "115/115 [==============================] - 0s 2ms/step - loss: 5.6566\n",
            "Epoch 91/150\n",
            "115/115 [==============================] - 0s 2ms/step - loss: 5.5863\n",
            "Epoch 92/150\n",
            "115/115 [==============================] - 0s 2ms/step - loss: 5.5026\n",
            "Epoch 93/150\n",
            "115/115 [==============================] - 0s 3ms/step - loss: 5.4386\n",
            "Epoch 94/150\n",
            "115/115 [==============================] - 0s 3ms/step - loss: 5.3714\n",
            "Epoch 95/150\n",
            "115/115 [==============================] - 0s 3ms/step - loss: 5.3444\n",
            "Epoch 96/150\n",
            "115/115 [==============================] - 0s 3ms/step - loss: 5.2794\n",
            "Epoch 97/150\n",
            "115/115 [==============================] - 0s 3ms/step - loss: 5.1997\n",
            "Epoch 98/150\n",
            "115/115 [==============================] - 0s 3ms/step - loss: 5.1399\n",
            "Epoch 99/150\n",
            "115/115 [==============================] - 0s 2ms/step - loss: 5.0862\n",
            "Epoch 100/150\n",
            "115/115 [==============================] - 0s 2ms/step - loss: 5.0515\n",
            "Epoch 101/150\n",
            "115/115 [==============================] - 0s 3ms/step - loss: 4.9910\n",
            "Epoch 102/150\n",
            "115/115 [==============================] - 0s 2ms/step - loss: 4.9579\n",
            "Epoch 103/150\n",
            "115/115 [==============================] - 0s 3ms/step - loss: 4.9026\n",
            "Epoch 104/150\n",
            "115/115 [==============================] - 0s 2ms/step - loss: 4.8634\n",
            "Epoch 105/150\n",
            "115/115 [==============================] - 0s 2ms/step - loss: 4.8112\n",
            "Epoch 106/150\n",
            "115/115 [==============================] - 0s 2ms/step - loss: 4.7695\n",
            "Epoch 107/150\n",
            "115/115 [==============================] - 0s 2ms/step - loss: 4.7293\n",
            "Epoch 108/150\n",
            "115/115 [==============================] - 0s 2ms/step - loss: 4.6832\n",
            "Epoch 109/150\n",
            "115/115 [==============================] - 0s 2ms/step - loss: 4.6637\n",
            "Epoch 110/150\n",
            "115/115 [==============================] - 0s 2ms/step - loss: 4.6440\n",
            "Epoch 111/150\n",
            "115/115 [==============================] - 0s 2ms/step - loss: 4.5989\n",
            "Epoch 112/150\n",
            "115/115 [==============================] - 0s 2ms/step - loss: 4.5727\n",
            "Epoch 113/150\n",
            "115/115 [==============================] - 0s 2ms/step - loss: 4.5224\n",
            "Epoch 114/150\n",
            "115/115 [==============================] - 0s 2ms/step - loss: 4.5244\n",
            "Epoch 115/150\n",
            "115/115 [==============================] - 0s 2ms/step - loss: 4.4690\n",
            "Epoch 116/150\n",
            "115/115 [==============================] - 0s 3ms/step - loss: 4.4502\n",
            "Epoch 117/150\n",
            "115/115 [==============================] - 0s 2ms/step - loss: 4.4352\n",
            "Epoch 118/150\n",
            "115/115 [==============================] - 0s 2ms/step - loss: 4.4161\n",
            "Epoch 119/150\n",
            "115/115 [==============================] - 0s 2ms/step - loss: 4.4040\n",
            "Epoch 120/150\n",
            "115/115 [==============================] - 0s 2ms/step - loss: 4.3795\n",
            "Epoch 121/150\n",
            "115/115 [==============================] - 0s 2ms/step - loss: 4.3718\n",
            "Epoch 122/150\n",
            "115/115 [==============================] - 0s 2ms/step - loss: 4.3791\n",
            "Epoch 123/150\n",
            "115/115 [==============================] - 0s 2ms/step - loss: 4.3513\n",
            "Epoch 124/150\n",
            "115/115 [==============================] - 0s 2ms/step - loss: 4.3446\n",
            "Epoch 125/150\n",
            "115/115 [==============================] - 0s 2ms/step - loss: 4.3268\n",
            "Epoch 126/150\n",
            "115/115 [==============================] - 0s 2ms/step - loss: 4.3147\n",
            "Epoch 127/150\n",
            "115/115 [==============================] - 0s 2ms/step - loss: 4.3161\n",
            "Epoch 128/150\n",
            "115/115 [==============================] - 0s 2ms/step - loss: 4.2998\n",
            "Epoch 129/150\n",
            "115/115 [==============================] - 0s 2ms/step - loss: 4.2907\n",
            "Epoch 130/150\n",
            "115/115 [==============================] - 0s 2ms/step - loss: 4.2942\n",
            "Epoch 131/150\n",
            "115/115 [==============================] - 0s 2ms/step - loss: 4.2599\n",
            "Epoch 132/150\n",
            "115/115 [==============================] - 0s 2ms/step - loss: 4.3010\n",
            "Epoch 133/150\n",
            "115/115 [==============================] - 0s 2ms/step - loss: 4.2840\n",
            "Epoch 134/150\n",
            "115/115 [==============================] - 0s 2ms/step - loss: 4.2628\n",
            "Epoch 135/150\n",
            "115/115 [==============================] - 0s 2ms/step - loss: 4.2635\n",
            "Epoch 136/150\n",
            "115/115 [==============================] - 0s 2ms/step - loss: 4.2577\n",
            "Epoch 137/150\n",
            "115/115 [==============================] - 0s 2ms/step - loss: 4.2564\n",
            "Epoch 138/150\n",
            "115/115 [==============================] - 0s 2ms/step - loss: 4.2567\n",
            "Epoch 139/150\n",
            "115/115 [==============================] - 0s 3ms/step - loss: 4.2653\n",
            "Epoch 140/150\n",
            "115/115 [==============================] - 0s 2ms/step - loss: 4.2509\n",
            "Epoch 141/150\n",
            "115/115 [==============================] - 0s 2ms/step - loss: 4.2465\n",
            "Epoch 142/150\n",
            "115/115 [==============================] - 0s 2ms/step - loss: 4.2361\n",
            "Epoch 143/150\n",
            "115/115 [==============================] - 0s 2ms/step - loss: 4.2364\n",
            "Epoch 144/150\n",
            "115/115 [==============================] - 0s 2ms/step - loss: 4.2627\n",
            "Epoch 145/150\n",
            "115/115 [==============================] - 0s 2ms/step - loss: 4.2319\n",
            "Epoch 146/150\n",
            "115/115 [==============================] - 0s 2ms/step - loss: 4.2387\n",
            "Epoch 147/150\n",
            "115/115 [==============================] - 0s 2ms/step - loss: 4.2317\n",
            "Epoch 148/150\n",
            "115/115 [==============================] - 0s 2ms/step - loss: 4.2274\n",
            "Epoch 149/150\n",
            "115/115 [==============================] - 0s 2ms/step - loss: 4.2249\n",
            "Epoch 150/150\n",
            "115/115 [==============================] - 0s 2ms/step - loss: 4.2412\n"
          ]
        }
      ]
    },
    {
      "cell_type": "code",
      "source": [],
      "metadata": {
        "id": "G5Ayh0cx_u4h"
      },
      "execution_count": 33,
      "outputs": []
    },
    {
      "cell_type": "code",
      "source": [
        "plt.plot(model.history['loss'])\n",
        "plt.title('Training Model Loss')\n",
        "plt.ylabel('loss')\n",
        "plt.xlabel('epoch')\n",
        "plt.legend(['train'],loc='upper left')\n",
        "plt.show()"
      ],
      "metadata": {
        "colab": {
          "base_uri": "https://localhost:8080/",
          "height": 295
        },
        "id": "Br5eJIzCpvun",
        "outputId": "e62e965c-b5ae-49b3-ffac-7f9337706332"
      },
      "execution_count": 27,
      "outputs": [
        {
          "output_type": "display_data",
          "data": {
            "text/plain": [
              "<Figure size 432x288 with 1 Axes>"
            ],
            "image/png": "[encoded data removed]"
          },
          "metadata": {
            "needs_background": "light"
          }
        }
      ]
    },
    {
      "cell_type": "code",
      "source": [
        "#LSTM Prediction\n",
        "y_pred = lstm.predict(X_test)"
      ],
      "metadata": {
        "colab": {
          "base_uri": "https://localhost:8080/"
        },
        "id": "XMYV0kbJvtK1",
        "outputId": "51ca127e-88b7-489e-861c-3c3746712116"
      },
      "execution_count": 28,
      "outputs": [
        {
          "output_type": "stream",
          "name": "stdout",
          "text": [
            "3/3 [==============================] - 0s 5ms/step\n"
          ]
        }
      ]
    },
    {
      "cell_type": "code",
      "source": [
        "MAE = metrics.mean_absolute_error(y_test, y_pred) # put the MAE of the model's product into the eponymous variable"
      ],
      "metadata": {
        "id": "nROrA-oYvvHh"
      },
      "execution_count": 29,
      "outputs": []
    },
    {
      "cell_type": "code",
      "source": [
        "MAE #display the MAE"
      ],
      "metadata": {
        "colab": {
          "base_uri": "https://localhost:8080/"
        },
        "id": "9FtKdwzqwRJc",
        "outputId": "6166fb2f-fd8c-44dc-8444-b2d22eba2a6d"
      },
      "execution_count": 30,
      "outputs": [
        {
          "output_type": "execute_result",
          "data": {
            "text/plain": [
              "6.328747052498284"
            ]
          },
          "metadata": {},
          "execution_count": 30
        }
      ]
    },
    {
      "cell_type": "code",
      "source": [
        "#predicted_price=sc.inverse_transform(y_pred)"
      ],
      "metadata": {
        "id": "96tSJZnBytLe"
      },
      "execution_count": 69,
      "outputs": []
    },
    {
      "cell_type": "code",
      "source": [
        "# Comparing the LSTM prediction and the actual value of the Adjusted for Close price via plot\n",
        "plt.plot(y_test, color='red',label='Actual Stock Price')\n",
        "plt.plot(y_pred,color='blue', label='Predicted Stock Price')\n",
        "plt.title(\"Netflix stock price prediction\")\n",
        "plt.xlabel('Time Scale')\n",
        "plt.ylabel('Stock Price')\n",
        "plt.legend()\n",
        "plt.show()"
      ],
      "metadata": {
        "colab": {
          "base_uri": "https://localhost:8080/",
          "height": 295
        },
        "id": "yZ23n0dywZrj",
        "outputId": "64ffd9bf-c6ba-4d38-bc3e-68c99e05a063"
      },
      "execution_count": 31,
      "outputs": [
        {
          "output_type": "display_data",
          "data": {
            "text/plain": [
              "<Figure size 432x288 with 1 Axes>"
            ],
            "image/png": "[encoded data removed]"
          },
          "metadata": {
            "needs_background": "light"
          }
        }
      ]
    },
    {
      "cell_type": "code",
      "source": [],
      "metadata": {
        "id": "2ZEbGG1Owd4W"
      },
      "execution_count": null,
      "outputs": []
    },
    {
      "cell_type": "markdown",
      "source": [
        "**Netflix Friday to Monday Prediction**\n"
      ],
      "metadata": {
        "id": "H9mUc15tmK8n"
      }
    },
    {
      "cell_type": "code",
      "source": [
        "import pandas as pd\n",
        "import numpy as np\n",
        "import matplotlib.pyplot as plt\n",
        "import seaborn as sns\n",
        "import datetime as dt\n"
      ],
      "metadata": {
        "id": "D_vF8rLZmHKk"
      },
      "execution_count": 17,
      "outputs": []
    },
    {
      "cell_type": "code",
      "source": [
        "dataframe=pd.read_csv('/content/drive/MyDrive/NFLX.csv')\n",
        "dataframe"
      ],
      "metadata": {
        "colab": {
          "base_uri": "https://localhost:8080/",
          "height": 419
        },
        "id": "ub-TRrd2mrh3",
        "outputId": "3363603b-7378-4a3e-e484-90c4212d7ce9"
      },
      "execution_count": 18,
      "outputs": [
        {
          "output_type": "execute_result",
          "data": {
            "text/plain": [
              "            Date        Open        High         Low       Close   Adj Close  \\\n",
              "0     2018-02-05  262.000000  267.899994  250.029999  254.259995  254.259995   \n",
              "1     2018-02-06  247.699997  266.700012  245.000000  265.720001  265.720001   \n",
              "2     2018-02-07  266.579987  272.450012  264.329987  264.559998  264.559998   \n",
              "3     2018-02-08  267.079987  267.619995  250.000000  250.100006  250.100006   \n",
              "4     2018-02-09  253.850006  255.800003  236.110001  249.470001  249.470001   \n",
              "...          ...         ...         ...         ...         ...         ...   \n",
              "1004  2022-01-31  401.970001  427.700012  398.200012  427.140015  427.140015   \n",
              "1005  2022-02-01  432.959991  458.480011  425.540009  457.130005  457.130005   \n",
              "1006  2022-02-02  448.250000  451.980011  426.480011  429.480011  429.480011   \n",
              "1007  2022-02-03  421.440002  429.260010  404.279999  405.600006  405.600006   \n",
              "1008  2022-02-04  407.309998  412.769989  396.640015  410.170013  410.170013   \n",
              "\n",
              "        Volume  \n",
              "0     11896100  \n",
              "1     12595800  \n",
              "2      8981500  \n",
              "3      9306700  \n",
              "4     16906900  \n",
              "...        ...  \n",
              "1004  20047500  \n",
              "1005  22542300  \n",
              "1006  14346000  \n",
              "1007   9905200  \n",
              "1008   7782400  \n",
              "\n",
              "[1009 rows x 7 columns]"
            ],
            "text/html": [
              "\n",
              "  <div id=\"df-6f645b29-9fbe-4e2d-a33a-0d4c7ab79856\">\n",
              "    <div class=\"colab-df-container\">\n",
              "      <div>\n",
              "<style scoped>\n",
              "    .dataframe tbody tr th:only-of-type {\n",
              "        vertical-align: middle;\n",
              "    }\n",
              "\n",
              "    .dataframe tbody tr th {\n",
              "        vertical-align: top;\n",
              "    }\n",
              "\n",
              "    .dataframe thead th {\n",
              "        text-align: right;\n",
              "    }\n",
              "</style>\n",
              "<table border=\"1\" class=\"dataframe\">\n",
              "  <thead>\n",
              "    <tr style=\"text-align: right;\">\n",
              "      <th></th>\n",
              "      <th>Date</th>\n",
              "      <th>Open</th>\n",
              "      <th>High</th>\n",
              "      <th>Low</th>\n",
              "      <th>Close</th>\n",
              "      <th>Adj Close</th>\n",
              "      <th>Volume</th>\n",
              "    </tr>\n",
              "  </thead>\n",
              "  <tbody>\n",
              "    <tr>\n",
              "      <th>0</th>\n",
              "      <td>2018-02-05</td>\n",
              "      <td>262.000000</td>\n",
              "      <td>267.899994</td>\n",
              "      <td>250.029999</td>\n",
              "      <td>254.259995</td>\n",
              "      <td>254.259995</td>\n",
              "      <td>11896100</td>\n",
              "    </tr>\n",
              "    <tr>\n",
              "      <th>1</th>\n",
              "      <td>2018-02-06</td>\n",
              "      <td>247.699997</td>\n",
              "      <td>266.700012</td>\n",
              "      <td>245.000000</td>\n",
              "      <td>265.720001</td>\n",
              "      <td>265.720001</td>\n",
              "      <td>12595800</td>\n",
              "    </tr>\n",
              "    <tr>\n",
              "      <th>2</th>\n",
              "      <td>2018-02-07</td>\n",
              "      <td>266.579987</td>\n",
              "      <td>272.450012</td>\n",
              "      <td>264.329987</td>\n",
              "      <td>264.559998</td>\n",
              "      <td>264.559998</td>\n",
              "      <td>8981500</td>\n",
              "    </tr>\n",
              "    <tr>\n",
              "      <th>3</th>\n",
              "      <td>2018-02-08</td>\n",
              "      <td>267.079987</td>\n",
              "      <td>267.619995</td>\n",
              "      <td>250.000000</td>\n",
              "      <td>250.100006</td>\n",
              "      <td>250.100006</td>\n",
              "      <td>9306700</td>\n",
              "    </tr>\n",
              "    <tr>\n",
              "      <th>4</th>\n",
              "      <td>2018-02-09</td>\n",
              "      <td>253.850006</td>\n",
              "      <td>255.800003</td>\n",
              "      <td>236.110001</td>\n",
              "      <td>249.470001</td>\n",
              "      <td>249.470001</td>\n",
              "      <td>16906900</td>\n",
              "    </tr>\n",
              "    <tr>\n",
              "      <th>...</th>\n",
              "      <td>...</td>\n",
              "      <td>...</td>\n",
              "      <td>...</td>\n",
              "      <td>...</td>\n",
              "      <td>...</td>\n",
              "      <td>...</td>\n",
              "      <td>...</td>\n",
              "    </tr>\n",
              "    <tr>\n",
              "      <th>1004</th>\n",
              "      <td>2022-01-31</td>\n",
              "      <td>401.970001</td>\n",
              "      <td>427.700012</td>\n",
              "      <td>398.200012</td>\n",
              "      <td>427.140015</td>\n",
              "      <td>427.140015</td>\n",
              "      <td>20047500</td>\n",
              "    </tr>\n",
              "    <tr>\n",
              "      <th>1005</th>\n",
              "      <td>2022-02-01</td>\n",
              "      <td>432.959991</td>\n",
              "      <td>458.480011</td>\n",
              "      <td>425.540009</td>\n",
              "      <td>457.130005</td>\n",
              "      <td>457.130005</td>\n",
              "      <td>22542300</td>\n",
              "    </tr>\n",
              "    <tr>\n",
              "      <th>1006</th>\n",
              "      <td>2022-02-02</td>\n",
              "      <td>448.250000</td>\n",
              "      <td>451.980011</td>\n",
              "      <td>426.480011</td>\n",
              "      <td>429.480011</td>\n",
              "      <td>429.480011</td>\n",
              "      <td>14346000</td>\n",
              "    </tr>\n",
              "    <tr>\n",
              "      <th>1007</th>\n",
              "      <td>2022-02-03</td>\n",
              "      <td>421.440002</td>\n",
              "      <td>429.260010</td>\n",
              "      <td>404.279999</td>\n",
              "      <td>405.600006</td>\n",
              "      <td>405.600006</td>\n",
              "      <td>9905200</td>\n",
              "    </tr>\n",
              "    <tr>\n",
              "      <th>1008</th>\n",
              "      <td>2022-02-04</td>\n",
              "      <td>407.309998</td>\n",
              "      <td>412.769989</td>\n",
              "      <td>396.640015</td>\n",
              "      <td>410.170013</td>\n",
              "      <td>410.170013</td>\n",
              "      <td>7782400</td>\n",
              "    </tr>\n",
              "  </tbody>\n",
              "</table>\n",
              "<p>1009 rows × 7 columns</p>\n",
              "</div>\n",
              "      <button class=\"colab-df-convert\" onclick=\"convertToInteractive('df-6f645b29-9fbe-4e2d-a33a-0d4c7ab79856')\"\n",
              "              title=\"Convert this dataframe to an interactive table.\"\n",
              "              style=\"display:none;\">\n",
              "        \n",
              "  <svg xmlns=\"http://www.w3.org/2000/svg\" height=\"24px\"viewBox=\"0 0 24 24\"\n",
              "       width=\"24px\">\n",
              "    <path d=\"M0 0h24v24H0V0z\" fill=\"none\"/>\n",
              "    <path d=\"M18.56 5.44l.94 2.06.94-2.06 2.06-.94-2.06-.94-.94-2.06-.94 2.06-2.06.94zm-11 1L8.5 8.5l.94-2.06 2.06-.94-2.06-.94L8.5 2.5l-.94 2.06-2.06.94zm10 10l.94 2.06.94-2.06 2.06-.94-2.06-.94-.94-2.06-.94 2.06-2.06.94z\"/><path d=\"M17.41 7.96l-1.37-1.37c-.4-.4-.92-.59-1.43-.59-.52 0-1.04.2-1.43.59L10.3 9.45l-7.72 7.72c-.78.78-.78 2.05 0 2.83L4 21.41c.39.39.9.59 1.41.59.51 0 1.02-.2 1.41-.59l7.78-7.78 2.81-2.81c.8-.78.8-2.07 0-2.86zM5.41 20L4 18.59l7.72-7.72 1.47 1.35L5.41 20z\"/>\n",
              "  </svg>\n",
              "      </button>\n",
              "      \n",
              "  <style>\n",
              "    .colab-df-container {\n",
              "      display:flex;\n",
              "      flex-wrap:wrap;\n",
              "      gap: 12px;\n",
              "    }\n",
              "\n",
              "    .colab-df-convert {\n",
              "      background-color: #E8F0FE;\n",
              "      border: none;\n",
              "      border-radius: 50%;\n",
              "      cursor: pointer;\n",
              "      display: none;\n",
              "      fill: #1967D2;\n",
              "      height: 32px;\n",
              "      padding: 0 0 0 0;\n",
              "      width: 32px;\n",
              "    }\n",
              "\n",
              "    .colab-df-convert:hover {\n",
              "      background-color: #E2EBFA;\n",
              "      box-shadow: 0px 1px 2px rgba(60, 64, 67, 0.3), 0px 1px 3px 1px rgba(60, 64, 67, 0.15);\n",
              "      fill: #174EA6;\n",
              "    }\n",
              "\n",
              "    [theme=dark] .colab-df-convert {\n",
              "      background-color: #3B4455;\n",
              "      fill: #D2E3FC;\n",
              "    }\n",
              "\n",
              "    [theme=dark] .colab-df-convert:hover {\n",
              "      background-color: #434B5C;\n",
              "      box-shadow: 0px 1px 3px 1px rgba(0, 0, 0, 0.15);\n",
              "      filter: drop-shadow(0px 1px 2px rgba(0, 0, 0, 0.3));\n",
              "      fill: #FFFFFF;\n",
              "    }\n",
              "  </style>\n",
              "\n",
              "      <script>\n",
              "        const buttonEl =\n",
              "          document.querySelector('#df-6f645b29-9fbe-4e2d-a33a-0d4c7ab79856 button.colab-df-convert');\n",
              "        buttonEl.style.display =\n",
              "          google.colab.kernel.accessAllowed ? 'block' : 'none';\n",
              "\n",
              "        async function convertToInteractive(key) {\n",
              "          const element = document.querySelector('#df-6f645b29-9fbe-4e2d-a33a-0d4c7ab79856');\n",
              "          const dataTable =\n",
              "            await google.colab.kernel.invokeFunction('convertToInteractive',\n",
              "                                                     [key], {});\n",
              "          if (!dataTable) return;\n",
              "\n",
              "          const docLinkHtml = 'Like what you see? Visit the ' +\n",
              "            '<a target=\"_blank\" href=https://colab.research.google.com/notebooks/data_table.ipynb>data table notebook</a>'\n",
              "            + ' to learn more about interactive tables.';\n",
              "          element.innerHTML = '';\n",
              "          dataTable['output_type'] = 'display_data';\n",
              "          await google.colab.output.renderOutput(dataTable, element);\n",
              "          const docLink = document.createElement('div');\n",
              "          docLink.innerHTML = docLinkHtml;\n",
              "          element.appendChild(docLink);\n",
              "        }\n",
              "      </script>\n",
              "    </div>\n",
              "  </div>\n",
              "  "
            ]
          },
          "metadata": {},
          "execution_count": 18
        }
      ]
    },
    {
      "cell_type": "code",
      "source": [
        "#convert string to pandas datetime, filtering only the date using '.dt.date'\n",
        "pd.to_datetime(dataframe['Date']).dt.date"
      ],
      "metadata": {
        "colab": {
          "base_uri": "https://localhost:8080/"
        },
        "id": "ufVyyRubpsMd",
        "outputId": "2a6c96fa-123c-4df7-a25d-bdd483231b35"
      },
      "execution_count": 19,
      "outputs": [
        {
          "output_type": "execute_result",
          "data": {
            "text/plain": [
              "0       2018-02-05\n",
              "1       2018-02-06\n",
              "2       2018-02-07\n",
              "3       2018-02-08\n",
              "4       2018-02-09\n",
              "           ...    \n",
              "1004    2022-01-31\n",
              "1005    2022-02-01\n",
              "1006    2022-02-02\n",
              "1007    2022-02-03\n",
              "1008    2022-02-04\n",
              "Name: Date, Length: 1009, dtype: object"
            ]
          },
          "metadata": {},
          "execution_count": 19
        }
      ]
    },
    {
      "cell_type": "code",
      "source": [
        "dataframe.shape"
      ],
      "metadata": {
        "colab": {
          "base_uri": "https://localhost:8080/"
        },
        "id": "ZlbNDbcYm4ky",
        "outputId": "c048196e-c48f-4409-929e-4277866aa7cd"
      },
      "execution_count": 20,
      "outputs": [
        {
          "output_type": "execute_result",
          "data": {
            "text/plain": [
              "(1009, 7)"
            ]
          },
          "metadata": {},
          "execution_count": 20
        }
      ]
    },
    {
      "cell_type": "code",
      "source": [
        "dataframe.isnull().sum()"
      ],
      "metadata": {
        "colab": {
          "base_uri": "https://localhost:8080/"
        },
        "id": "3M6jZi3bnFJq",
        "outputId": "95af1e98-9bb6-4022-f57c-d05d5e423265"
      },
      "execution_count": 21,
      "outputs": [
        {
          "output_type": "execute_result",
          "data": {
            "text/plain": [
              "Date         0\n",
              "Open         0\n",
              "High         0\n",
              "Low          0\n",
              "Close        0\n",
              "Adj Close    0\n",
              "Volume       0\n",
              "dtype: int64"
            ]
          },
          "metadata": {},
          "execution_count": 21
        }
      ]
    },
    {
      "cell_type": "code",
      "source": [
        "dataframe.info()"
      ],
      "metadata": {
        "colab": {
          "base_uri": "https://localhost:8080/"
        },
        "id": "nSuBLACdnc9q",
        "outputId": "0d2f656a-d99d-4dc4-f51c-2660aac62ced"
      },
      "execution_count": 22,
      "outputs": [
        {
          "output_type": "stream",
          "name": "stdout",
          "text": [
            "<class 'pandas.core.frame.DataFrame'>\n",
            "RangeIndex: 1009 entries, 0 to 1008\n",
            "Data columns (total 7 columns):\n",
            " #   Column     Non-Null Count  Dtype  \n",
            "---  ------     --------------  -----  \n",
            " 0   Date       1009 non-null   object \n",
            " 1   Open       1009 non-null   float64\n",
            " 2   High       1009 non-null   float64\n",
            " 3   Low        1009 non-null   float64\n",
            " 4   Close      1009 non-null   float64\n",
            " 5   Adj Close  1009 non-null   float64\n",
            " 6   Volume     1009 non-null   int64  \n",
            "dtypes: float64(5), int64(1), object(1)\n",
            "memory usage: 55.3+ KB\n"
          ]
        }
      ]
    },
    {
      "cell_type": "code",
      "source": [
        "dataframe['Datetime'] = pd.to_datetime(dataframe['Date'])\n",
        "dataframe = dataframe.set_index('Datetime')\n",
        "dataframe"
      ],
      "metadata": {
        "colab": {
          "base_uri": "https://localhost:8080/",
          "height": 450
        },
        "id": "FulmZa23nN4B",
        "outputId": "32bd5f83-9861-4748-a7ee-e8e17fe095b9"
      },
      "execution_count": 23,
      "outputs": [
        {
          "output_type": "execute_result",
          "data": {
            "text/plain": [
              "                  Date        Open        High         Low       Close  \\\n",
              "Datetime                                                                 \n",
              "2018-02-05  2018-02-05  262.000000  267.899994  250.029999  254.259995   \n",
              "2018-02-06  2018-02-06  247.699997  266.700012  245.000000  265.720001   \n",
              "2018-02-07  2018-02-07  266.579987  272.450012  264.329987  264.559998   \n",
              "2018-02-08  2018-02-08  267.079987  267.619995  250.000000  250.100006   \n",
              "2018-02-09  2018-02-09  253.850006  255.800003  236.110001  249.470001   \n",
              "...                ...         ...         ...         ...         ...   \n",
              "2022-01-31  2022-01-31  401.970001  427.700012  398.200012  427.140015   \n",
              "2022-02-01  2022-02-01  432.959991  458.480011  425.540009  457.130005   \n",
              "2022-02-02  2022-02-02  448.250000  451.980011  426.480011  429.480011   \n",
              "2022-02-03  2022-02-03  421.440002  429.260010  404.279999  405.600006   \n",
              "2022-02-04  2022-02-04  407.309998  412.769989  396.640015  410.170013   \n",
              "\n",
              "             Adj Close    Volume  \n",
              "Datetime                          \n",
              "2018-02-05  254.259995  11896100  \n",
              "2018-02-06  265.720001  12595800  \n",
              "2018-02-07  264.559998   8981500  \n",
              "2018-02-08  250.100006   9306700  \n",
              "2018-02-09  249.470001  16906900  \n",
              "...                ...       ...  \n",
              "2022-01-31  427.140015  20047500  \n",
              "2022-02-01  457.130005  22542300  \n",
              "2022-02-02  429.480011  14346000  \n",
              "2022-02-03  405.600006   9905200  \n",
              "2022-02-04  410.170013   7782400  \n",
              "\n",
              "[1009 rows x 7 columns]"
            ],
            "text/html": [
              "\n",
              "  <div id=\"df-a58861cd-5b64-45c8-a42c-fc40fa8c44d9\">\n",
              "    <div class=\"colab-df-container\">\n",
              "      <div>\n",
              "<style scoped>\n",
              "    .dataframe tbody tr th:only-of-type {\n",
              "        vertical-align: middle;\n",
              "    }\n",
              "\n",
              "    .dataframe tbody tr th {\n",
              "        vertical-align: top;\n",
              "    }\n",
              "\n",
              "    .dataframe thead th {\n",
              "        text-align: right;\n",
              "    }\n",
              "</style>\n",
              "<table border=\"1\" class=\"dataframe\">\n",
              "  <thead>\n",
              "    <tr style=\"text-align: right;\">\n",
              "      <th></th>\n",
              "      <th>Date</th>\n",
              "      <th>Open</th>\n",
              "      <th>High</th>\n",
              "      <th>Low</th>\n",
              "      <th>Close</th>\n",
              "      <th>Adj Close</th>\n",
              "      <th>Volume</th>\n",
              "    </tr>\n",
              "    <tr>\n",
              "      <th>Datetime</th>\n",
              "      <th></th>\n",
              "      <th></th>\n",
              "      <th></th>\n",
              "      <th></th>\n",
              "      <th></th>\n",
              "      <th></th>\n",
              "      <th></th>\n",
              "    </tr>\n",
              "  </thead>\n",
              "  <tbody>\n",
              "    <tr>\n",
              "      <th>2018-02-05</th>\n",
              "      <td>2018-02-05</td>\n",
              "      <td>262.000000</td>\n",
              "      <td>267.899994</td>\n",
              "      <td>250.029999</td>\n",
              "      <td>254.259995</td>\n",
              "      <td>254.259995</td>\n",
              "      <td>11896100</td>\n",
              "    </tr>\n",
              "    <tr>\n",
              "      <th>2018-02-06</th>\n",
              "      <td>2018-02-06</td>\n",
              "      <td>247.699997</td>\n",
              "      <td>266.700012</td>\n",
              "      <td>245.000000</td>\n",
              "      <td>265.720001</td>\n",
              "      <td>265.720001</td>\n",
              "      <td>12595800</td>\n",
              "    </tr>\n",
              "    <tr>\n",
              "      <th>2018-02-07</th>\n",
              "      <td>2018-02-07</td>\n",
              "      <td>266.579987</td>\n",
              "      <td>272.450012</td>\n",
              "      <td>264.329987</td>\n",
              "      <td>264.559998</td>\n",
              "      <td>264.559998</td>\n",
              "      <td>8981500</td>\n",
              "    </tr>\n",
              "    <tr>\n",
              "      <th>2018-02-08</th>\n",
              "      <td>2018-02-08</td>\n",
              "      <td>267.079987</td>\n",
              "      <td>267.619995</td>\n",
              "      <td>250.000000</td>\n",
              "      <td>250.100006</td>\n",
              "      <td>250.100006</td>\n",
              "      <td>9306700</td>\n",
              "    </tr>\n",
              "    <tr>\n",
              "      <th>2018-02-09</th>\n",
              "      <td>2018-02-09</td>\n",
              "      <td>253.850006</td>\n",
              "      <td>255.800003</td>\n",
              "      <td>236.110001</td>\n",
              "      <td>249.470001</td>\n",
              "      <td>249.470001</td>\n",
              "      <td>16906900</td>\n",
              "    </tr>\n",
              "    <tr>\n",
              "      <th>...</th>\n",
              "      <td>...</td>\n",
              "      <td>...</td>\n",
              "      <td>...</td>\n",
              "      <td>...</td>\n",
              "      <td>...</td>\n",
              "      <td>...</td>\n",
              "      <td>...</td>\n",
              "    </tr>\n",
              "    <tr>\n",
              "      <th>2022-01-31</th>\n",
              "      <td>2022-01-31</td>\n",
              "      <td>401.970001</td>\n",
              "      <td>427.700012</td>\n",
              "      <td>398.200012</td>\n",
              "      <td>427.140015</td>\n",
              "      <td>427.140015</td>\n",
              "      <td>20047500</td>\n",
              "    </tr>\n",
              "    <tr>\n",
              "      <th>2022-02-01</th>\n",
              "      <td>2022-02-01</td>\n",
              "      <td>432.959991</td>\n",
              "      <td>458.480011</td>\n",
              "      <td>425.540009</td>\n",
              "      <td>457.130005</td>\n",
              "      <td>457.130005</td>\n",
              "      <td>22542300</td>\n",
              "    </tr>\n",
              "    <tr>\n",
              "      <th>2022-02-02</th>\n",
              "      <td>2022-02-02</td>\n",
              "      <td>448.250000</td>\n",
              "      <td>451.980011</td>\n",
              "      <td>426.480011</td>\n",
              "      <td>429.480011</td>\n",
              "      <td>429.480011</td>\n",
              "      <td>14346000</td>\n",
              "    </tr>\n",
              "    <tr>\n",
              "      <th>2022-02-03</th>\n",
              "      <td>2022-02-03</td>\n",
              "      <td>421.440002</td>\n",
              "      <td>429.260010</td>\n",
              "      <td>404.279999</td>\n",
              "      <td>405.600006</td>\n",
              "      <td>405.600006</td>\n",
              "      <td>9905200</td>\n",
              "    </tr>\n",
              "    <tr>\n",
              "      <th>2022-02-04</th>\n",
              "      <td>2022-02-04</td>\n",
              "      <td>407.309998</td>\n",
              "      <td>412.769989</td>\n",
              "      <td>396.640015</td>\n",
              "      <td>410.170013</td>\n",
              "      <td>410.170013</td>\n",
              "      <td>7782400</td>\n",
              "    </tr>\n",
              "  </tbody>\n",
              "</table>\n",
              "<p>1009 rows × 7 columns</p>\n",
              "</div>\n",
              "      <button class=\"colab-df-convert\" onclick=\"convertToInteractive('df-a58861cd-5b64-45c8-a42c-fc40fa8c44d9')\"\n",
              "              title=\"Convert this dataframe to an interactive table.\"\n",
              "              style=\"display:none;\">\n",
              "        \n",
              "  <svg xmlns=\"http://www.w3.org/2000/svg\" height=\"24px\"viewBox=\"0 0 24 24\"\n",
              "       width=\"24px\">\n",
              "    <path d=\"M0 0h24v24H0V0z\" fill=\"none\"/>\n",
              "    <path d=\"M18.56 5.44l.94 2.06.94-2.06 2.06-.94-2.06-.94-.94-2.06-.94 2.06-2.06.94zm-11 1L8.5 8.5l.94-2.06 2.06-.94-2.06-.94L8.5 2.5l-.94 2.06-2.06.94zm10 10l.94 2.06.94-2.06 2.06-.94-2.06-.94-.94-2.06-.94 2.06-2.06.94z\"/><path d=\"M17.41 7.96l-1.37-1.37c-.4-.4-.92-.59-1.43-.59-.52 0-1.04.2-1.43.59L10.3 9.45l-7.72 7.72c-.78.78-.78 2.05 0 2.83L4 21.41c.39.39.9.59 1.41.59.51 0 1.02-.2 1.41-.59l7.78-7.78 2.81-2.81c.8-.78.8-2.07 0-2.86zM5.41 20L4 18.59l7.72-7.72 1.47 1.35L5.41 20z\"/>\n",
              "  </svg>\n",
              "      </button>\n",
              "      \n",
              "  <style>\n",
              "    .colab-df-container {\n",
              "      display:flex;\n",
              "      flex-wrap:wrap;\n",
              "      gap: 12px;\n",
              "    }\n",
              "\n",
              "    .colab-df-convert {\n",
              "      background-color: #E8F0FE;\n",
              "      border: none;\n",
              "      border-radius: 50%;\n",
              "      cursor: pointer;\n",
              "      display: none;\n",
              "      fill: #1967D2;\n",
              "      height: 32px;\n",
              "      padding: 0 0 0 0;\n",
              "      width: 32px;\n",
              "    }\n",
              "\n",
              "    .colab-df-convert:hover {\n",
              "      background-color: #E2EBFA;\n",
              "      box-shadow: 0px 1px 2px rgba(60, 64, 67, 0.3), 0px 1px 3px 1px rgba(60, 64, 67, 0.15);\n",
              "      fill: #174EA6;\n",
              "    }\n",
              "\n",
              "    [theme=dark] .colab-df-convert {\n",
              "      background-color: #3B4455;\n",
              "      fill: #D2E3FC;\n",
              "    }\n",
              "\n",
              "    [theme=dark] .colab-df-convert:hover {\n",
              "      background-color: #434B5C;\n",
              "      box-shadow: 0px 1px 3px 1px rgba(0, 0, 0, 0.15);\n",
              "      filter: drop-shadow(0px 1px 2px rgba(0, 0, 0, 0.3));\n",
              "      fill: #FFFFFF;\n",
              "    }\n",
              "  </style>\n",
              "\n",
              "      <script>\n",
              "        const buttonEl =\n",
              "          document.querySelector('#df-a58861cd-5b64-45c8-a42c-fc40fa8c44d9 button.colab-df-convert');\n",
              "        buttonEl.style.display =\n",
              "          google.colab.kernel.accessAllowed ? 'block' : 'none';\n",
              "\n",
              "        async function convertToInteractive(key) {\n",
              "          const element = document.querySelector('#df-a58861cd-5b64-45c8-a42c-fc40fa8c44d9');\n",
              "          const dataTable =\n",
              "            await google.colab.kernel.invokeFunction('convertToInteractive',\n",
              "                                                     [key], {});\n",
              "          if (!dataTable) return;\n",
              "\n",
              "          const docLinkHtml = 'Like what you see? Visit the ' +\n",
              "            '<a target=\"_blank\" href=https://colab.research.google.com/notebooks/data_table.ipynb>data table notebook</a>'\n",
              "            + ' to learn more about interactive tables.';\n",
              "          element.innerHTML = '';\n",
              "          dataTable['output_type'] = 'display_data';\n",
              "          await google.colab.output.renderOutput(dataTable, element);\n",
              "          const docLink = document.createElement('div');\n",
              "          docLink.innerHTML = docLinkHtml;\n",
              "          element.appendChild(docLink);\n",
              "        }\n",
              "      </script>\n",
              "    </div>\n",
              "  </div>\n",
              "  "
            ]
          },
          "metadata": {},
          "execution_count": 23
        }
      ]
    },
    {
      "cell_type": "code",
      "source": [
        "plt.figure(figsize=(15, 5))\n",
        "plt.xticks(rotation = 45)\n",
        "plt.plot(dataframe['Adj Close'])\n",
        "plt.title('Netflix stock price for 5 years')\n",
        "plt.ylabel('Price', fontsize=18)\n",
        "plt.xlabel('Year', fontsize=18)"
      ],
      "metadata": {
        "colab": {
          "base_uri": "https://localhost:8080/",
          "height": 384
        },
        "id": "mErhvt_aoAif",
        "outputId": "5254cd79-7d31-4e74-badd-76269a4a1399"
      },
      "execution_count": 24,
      "outputs": [
        {
          "output_type": "execute_result",
          "data": {
            "text/plain": [
              "Text(0.5, 0, 'Year')"
            ]
          },
          "metadata": {},
          "execution_count": 24
        },
        {
          "output_type": "display_data",
          "data": {
            "text/plain": [
              "<Figure size 1080x360 with 1 Axes>"
            ],
            "image/png": "[encoded data removed]"
          },
          "metadata": {
            "needs_background": "light"
          }
        }
      ]
    },
    {
      "cell_type": "code",
      "source": [
        "plt.figure(figsize=(15, 5))\n",
        "plt.xticks(rotation = 45)\n",
        "plt.plot(dataframe['Volume'])\n",
        "plt.title('Netflix stock price for 5 years')\n",
        "plt.ylabel('Price', fontsize=18)\n",
        "plt.xlabel('Year', fontsize=18)"
      ],
      "metadata": {
        "colab": {
          "base_uri": "https://localhost:8080/",
          "height": 389
        },
        "id": "uBQfnx6Cqfml",
        "outputId": "2a158c79-a34c-4dd4-c8a7-4875a387e5d5"
      },
      "execution_count": 28,
      "outputs": [
        {
          "output_type": "execute_result",
          "data": {
            "text/plain": [
              "Text(0.5, 0, 'Year')"
            ]
          },
          "metadata": {},
          "execution_count": 28
        },
        {
          "output_type": "display_data",
          "data": {
            "text/plain": [
              "<Figure size 1080x360 with 1 Axes>"
            ],
            "image/png": "[encoded data removed]"
          },
          "metadata": {
            "needs_background": "light"
          }
        }
      ]
    },
    {
      "cell_type": "code",
      "source": [
        "#subplots for different variables against datetime\n",
        "dataframe.plot(subplots=True)"
      ],
      "metadata": {
        "colab": {
          "base_uri": "https://localhost:8080/",
          "height": 396
        },
        "id": "qK2x1-P2sOPI",
        "outputId": "0c998e8b-b882-476b-bf95-b8fc14ce2971"
      },
      "execution_count": 30,
      "outputs": [
        {
          "output_type": "execute_result",
          "data": {
            "text/plain": [
              "array([<matplotlib.axes._subplots.AxesSubplot object at 0x7fd7e8c91370>,\n",
              "       <matplotlib.axes._subplots.AxesSubplot object at 0x7fd7ea8fc0a0>,\n",
              "       <matplotlib.axes._subplots.AxesSubplot object at 0x7fd7eadf51c0>,\n",
              "       <matplotlib.axes._subplots.AxesSubplot object at 0x7fd7e8ad0d90>,\n",
              "       <matplotlib.axes._subplots.AxesSubplot object at 0x7fd7e8a7bee0>,\n",
              "       <matplotlib.axes._subplots.AxesSubplot object at 0x7fd7e8a39ee0>],\n",
              "      dtype=object)"
            ]
          },
          "metadata": {},
          "execution_count": 30
        },
        {
          "output_type": "display_data",
          "data": {
            "text/plain": [
              "<Figure size 432x288 with 6 Axes>"
            ],
            "image/png": "[encoded data removed]"
          },
          "metadata": {
            "needs_background": "light"
          }
        }
      ]
    },
    {
      "cell_type": "code",
      "source": [
        "#finding out whether buying on Friday and selling on Monday is profitable.\n",
        "#Taking (mon - fri) / fri to get % change,Each of this is 1 data point\n",
        "##0: Monday, 1: Tues, 2: Wed, 3: Thurs, 4: Fri\n",
        "dataframe['Day'] = pd.to_datetime(dataframe['Date']).dt.weekday\n",
        "dataframe"
      ],
      "metadata": {
        "colab": {
          "base_uri": "https://localhost:8080/",
          "height": 450
        },
        "id": "ZrnpRHeisek9",
        "outputId": "7864dab8-3e90-4812-c68c-670b892bae7f"
      },
      "execution_count": 31,
      "outputs": [
        {
          "output_type": "execute_result",
          "data": {
            "text/plain": [
              "                  Date        Open        High         Low       Close  \\\n",
              "Datetime                                                                 \n",
              "2018-02-05  2018-02-05  262.000000  267.899994  250.029999  254.259995   \n",
              "2018-02-06  2018-02-06  247.699997  266.700012  245.000000  265.720001   \n",
              "2018-02-07  2018-02-07  266.579987  272.450012  264.329987  264.559998   \n",
              "2018-02-08  2018-02-08  267.079987  267.619995  250.000000  250.100006   \n",
              "2018-02-09  2018-02-09  253.850006  255.800003  236.110001  249.470001   \n",
              "...                ...         ...         ...         ...         ...   \n",
              "2022-01-31  2022-01-31  401.970001  427.700012  398.200012  427.140015   \n",
              "2022-02-01  2022-02-01  432.959991  458.480011  425.540009  457.130005   \n",
              "2022-02-02  2022-02-02  448.250000  451.980011  426.480011  429.480011   \n",
              "2022-02-03  2022-02-03  421.440002  429.260010  404.279999  405.600006   \n",
              "2022-02-04  2022-02-04  407.309998  412.769989  396.640015  410.170013   \n",
              "\n",
              "             Adj Close    Volume  Day  \n",
              "Datetime                               \n",
              "2018-02-05  254.259995  11896100    0  \n",
              "2018-02-06  265.720001  12595800    1  \n",
              "2018-02-07  264.559998   8981500    2  \n",
              "2018-02-08  250.100006   9306700    3  \n",
              "2018-02-09  249.470001  16906900    4  \n",
              "...                ...       ...  ...  \n",
              "2022-01-31  427.140015  20047500    0  \n",
              "2022-02-01  457.130005  22542300    1  \n",
              "2022-02-02  429.480011  14346000    2  \n",
              "2022-02-03  405.600006   9905200    3  \n",
              "2022-02-04  410.170013   7782400    4  \n",
              "\n",
              "[1009 rows x 8 columns]"
            ],
            "text/html": [
              "\n",
              "  <div id=\"df-972269f4-6d7a-4f68-a551-be9836ce70ad\">\n",
              "    <div class=\"colab-df-container\">\n",
              "      <div>\n",
              "<style scoped>\n",
              "    .dataframe tbody tr th:only-of-type {\n",
              "        vertical-align: middle;\n",
              "    }\n",
              "\n",
              "    .dataframe tbody tr th {\n",
              "        vertical-align: top;\n",
              "    }\n",
              "\n",
              "    .dataframe thead th {\n",
              "        text-align: right;\n",
              "    }\n",
              "</style>\n",
              "<table border=\"1\" class=\"dataframe\">\n",
              "  <thead>\n",
              "    <tr style=\"text-align: right;\">\n",
              "      <th></th>\n",
              "      <th>Date</th>\n",
              "      <th>Open</th>\n",
              "      <th>High</th>\n",
              "      <th>Low</th>\n",
              "      <th>Close</th>\n",
              "      <th>Adj Close</th>\n",
              "      <th>Volume</th>\n",
              "      <th>Day</th>\n",
              "    </tr>\n",
              "    <tr>\n",
              "      <th>Datetime</th>\n",
              "      <th></th>\n",
              "      <th></th>\n",
              "      <th></th>\n",
              "      <th></th>\n",
              "      <th></th>\n",
              "      <th></th>\n",
              "      <th></th>\n",
              "      <th></th>\n",
              "    </tr>\n",
              "  </thead>\n",
              "  <tbody>\n",
              "    <tr>\n",
              "      <th>2018-02-05</th>\n",
              "      <td>2018-02-05</td>\n",
              "      <td>262.000000</td>\n",
              "      <td>267.899994</td>\n",
              "      <td>250.029999</td>\n",
              "      <td>254.259995</td>\n",
              "      <td>254.259995</td>\n",
              "      <td>11896100</td>\n",
              "      <td>0</td>\n",
              "    </tr>\n",
              "    <tr>\n",
              "      <th>2018-02-06</th>\n",
              "      <td>2018-02-06</td>\n",
              "      <td>247.699997</td>\n",
              "      <td>266.700012</td>\n",
              "      <td>245.000000</td>\n",
              "      <td>265.720001</td>\n",
              "      <td>265.720001</td>\n",
              "      <td>12595800</td>\n",
              "      <td>1</td>\n",
              "    </tr>\n",
              "    <tr>\n",
              "      <th>2018-02-07</th>\n",
              "      <td>2018-02-07</td>\n",
              "      <td>266.579987</td>\n",
              "      <td>272.450012</td>\n",
              "      <td>264.329987</td>\n",
              "      <td>264.559998</td>\n",
              "      <td>264.559998</td>\n",
              "      <td>8981500</td>\n",
              "      <td>2</td>\n",
              "    </tr>\n",
              "    <tr>\n",
              "      <th>2018-02-08</th>\n",
              "      <td>2018-02-08</td>\n",
              "      <td>267.079987</td>\n",
              "      <td>267.619995</td>\n",
              "      <td>250.000000</td>\n",
              "      <td>250.100006</td>\n",
              "      <td>250.100006</td>\n",
              "      <td>9306700</td>\n",
              "      <td>3</td>\n",
              "    </tr>\n",
              "    <tr>\n",
              "      <th>2018-02-09</th>\n",
              "      <td>2018-02-09</td>\n",
              "      <td>253.850006</td>\n",
              "      <td>255.800003</td>\n",
              "      <td>236.110001</td>\n",
              "      <td>249.470001</td>\n",
              "      <td>249.470001</td>\n",
              "      <td>16906900</td>\n",
              "      <td>4</td>\n",
              "    </tr>\n",
              "    <tr>\n",
              "      <th>...</th>\n",
              "      <td>...</td>\n",
              "      <td>...</td>\n",
              "      <td>...</td>\n",
              "      <td>...</td>\n",
              "      <td>...</td>\n",
              "      <td>...</td>\n",
              "      <td>...</td>\n",
              "      <td>...</td>\n",
              "    </tr>\n",
              "    <tr>\n",
              "      <th>2022-01-31</th>\n",
              "      <td>2022-01-31</td>\n",
              "      <td>401.970001</td>\n",
              "      <td>427.700012</td>\n",
              "      <td>398.200012</td>\n",
              "      <td>427.140015</td>\n",
              "      <td>427.140015</td>\n",
              "      <td>20047500</td>\n",
              "      <td>0</td>\n",
              "    </tr>\n",
              "    <tr>\n",
              "      <th>2022-02-01</th>\n",
              "      <td>2022-02-01</td>\n",
              "      <td>432.959991</td>\n",
              "      <td>458.480011</td>\n",
              "      <td>425.540009</td>\n",
              "      <td>457.130005</td>\n",
              "      <td>457.130005</td>\n",
              "      <td>22542300</td>\n",
              "      <td>1</td>\n",
              "    </tr>\n",
              "    <tr>\n",
              "      <th>2022-02-02</th>\n",
              "      <td>2022-02-02</td>\n",
              "      <td>448.250000</td>\n",
              "      <td>451.980011</td>\n",
              "      <td>426.480011</td>\n",
              "      <td>429.480011</td>\n",
              "      <td>429.480011</td>\n",
              "      <td>14346000</td>\n",
              "      <td>2</td>\n",
              "    </tr>\n",
              "    <tr>\n",
              "      <th>2022-02-03</th>\n",
              "      <td>2022-02-03</td>\n",
              "      <td>421.440002</td>\n",
              "      <td>429.260010</td>\n",
              "      <td>404.279999</td>\n",
              "      <td>405.600006</td>\n",
              "      <td>405.600006</td>\n",
              "      <td>9905200</td>\n",
              "      <td>3</td>\n",
              "    </tr>\n",
              "    <tr>\n",
              "      <th>2022-02-04</th>\n",
              "      <td>2022-02-04</td>\n",
              "      <td>407.309998</td>\n",
              "      <td>412.769989</td>\n",
              "      <td>396.640015</td>\n",
              "      <td>410.170013</td>\n",
              "      <td>410.170013</td>\n",
              "      <td>7782400</td>\n",
              "      <td>4</td>\n",
              "    </tr>\n",
              "  </tbody>\n",
              "</table>\n",
              "<p>1009 rows × 8 columns</p>\n",
              "</div>\n",
              "      <button class=\"colab-df-convert\" onclick=\"convertToInteractive('df-972269f4-6d7a-4f68-a551-be9836ce70ad')\"\n",
              "              title=\"Convert this dataframe to an interactive table.\"\n",
              "              style=\"display:none;\">\n",
              "        \n",
              "  <svg xmlns=\"http://www.w3.org/2000/svg\" height=\"24px\"viewBox=\"0 0 24 24\"\n",
              "       width=\"24px\">\n",
              "    <path d=\"M0 0h24v24H0V0z\" fill=\"none\"/>\n",
              "    <path d=\"M18.56 5.44l.94 2.06.94-2.06 2.06-.94-2.06-.94-.94-2.06-.94 2.06-2.06.94zm-11 1L8.5 8.5l.94-2.06 2.06-.94-2.06-.94L8.5 2.5l-.94 2.06-2.06.94zm10 10l.94 2.06.94-2.06 2.06-.94-2.06-.94-.94-2.06-.94 2.06-2.06.94z\"/><path d=\"M17.41 7.96l-1.37-1.37c-.4-.4-.92-.59-1.43-.59-.52 0-1.04.2-1.43.59L10.3 9.45l-7.72 7.72c-.78.78-.78 2.05 0 2.83L4 21.41c.39.39.9.59 1.41.59.51 0 1.02-.2 1.41-.59l7.78-7.78 2.81-2.81c.8-.78.8-2.07 0-2.86zM5.41 20L4 18.59l7.72-7.72 1.47 1.35L5.41 20z\"/>\n",
              "  </svg>\n",
              "      </button>\n",
              "      \n",
              "  <style>\n",
              "    .colab-df-container {\n",
              "      display:flex;\n",
              "      flex-wrap:wrap;\n",
              "      gap: 12px;\n",
              "    }\n",
              "\n",
              "    .colab-df-convert {\n",
              "      background-color: #E8F0FE;\n",
              "      border: none;\n",
              "      border-radius: 50%;\n",
              "      cursor: pointer;\n",
              "      display: none;\n",
              "      fill: #1967D2;\n",
              "      height: 32px;\n",
              "      padding: 0 0 0 0;\n",
              "      width: 32px;\n",
              "    }\n",
              "\n",
              "    .colab-df-convert:hover {\n",
              "      background-color: #E2EBFA;\n",
              "      box-shadow: 0px 1px 2px rgba(60, 64, 67, 0.3), 0px 1px 3px 1px rgba(60, 64, 67, 0.15);\n",
              "      fill: #174EA6;\n",
              "    }\n",
              "\n",
              "    [theme=dark] .colab-df-convert {\n",
              "      background-color: #3B4455;\n",
              "      fill: #D2E3FC;\n",
              "    }\n",
              "\n",
              "    [theme=dark] .colab-df-convert:hover {\n",
              "      background-color: #434B5C;\n",
              "      box-shadow: 0px 1px 3px 1px rgba(0, 0, 0, 0.15);\n",
              "      filter: drop-shadow(0px 1px 2px rgba(0, 0, 0, 0.3));\n",
              "      fill: #FFFFFF;\n",
              "    }\n",
              "  </style>\n",
              "\n",
              "      <script>\n",
              "        const buttonEl =\n",
              "          document.querySelector('#df-972269f4-6d7a-4f68-a551-be9836ce70ad button.colab-df-convert');\n",
              "        buttonEl.style.display =\n",
              "          google.colab.kernel.accessAllowed ? 'block' : 'none';\n",
              "\n",
              "        async function convertToInteractive(key) {\n",
              "          const element = document.querySelector('#df-972269f4-6d7a-4f68-a551-be9836ce70ad');\n",
              "          const dataTable =\n",
              "            await google.colab.kernel.invokeFunction('convertToInteractive',\n",
              "                                                     [key], {});\n",
              "          if (!dataTable) return;\n",
              "\n",
              "          const docLinkHtml = 'Like what you see? Visit the ' +\n",
              "            '<a target=\"_blank\" href=https://colab.research.google.com/notebooks/data_table.ipynb>data table notebook</a>'\n",
              "            + ' to learn more about interactive tables.';\n",
              "          element.innerHTML = '';\n",
              "          dataTable['output_type'] = 'display_data';\n",
              "          await google.colab.output.renderOutput(dataTable, element);\n",
              "          const docLink = document.createElement('div');\n",
              "          docLink.innerHTML = docLinkHtml;\n",
              "          element.appendChild(docLink);\n",
              "        }\n",
              "      </script>\n",
              "    </div>\n",
              "  </div>\n",
              "  "
            ]
          },
          "metadata": {},
          "execution_count": 31
        }
      ]
    },
    {
      "cell_type": "code",
      "source": [
        "#filtering mondays and fridays\n",
        "filter_df = dataframe[(dataframe['Day'] == 0) | (dataframe['Day'] == 4)]\n",
        "filter_df = filter_df.sort_values('Date').reset_index(drop=True)\n",
        "filter_df['DateTime'] = pd.to_datetime(filter_df['Date'])\n",
        "filter_df['diff_days'] = filter_df['DateTime'].diff()\n",
        "filter_df.head(10)\n",
        "info_df = pd.DataFrame(columns=['buy_date', 'sell_date', 'buy_px', 'sell_px'])\n",
        "for i in range(len(filter_df)):\n",
        "    if filter_df.loc[i, 'diff_days'].days == 3:\n",
        "        info_df = info_df.append(\n",
        "        {\n",
        "            'buy_date': filter_df.loc[i-1, 'Date'], \n",
        "            'sell_date':filter_df.loc[i, 'Date'], \n",
        "            'buy_px':filter_df.loc[i-1, 'Adj Close'], \n",
        "            'sell_px':filter_df.loc[i, 'Adj Close']\n",
        "            \n",
        "        },ignore_index=True\n",
        "        )"
      ],
      "metadata": {
        "id": "YxRQCCTltcRX"
      },
      "execution_count": 39,
      "outputs": []
    },
    {
      "cell_type": "code",
      "source": [
        "info_df['pct'] =  ((info_df['sell_px'] - info_df['buy_px']) / info_df['buy_px']) *100\n",
        "#Platform Contribution Transaction"
      ],
      "metadata": {
        "id": "_MV_VPFft7am"
      },
      "execution_count": 40,
      "outputs": []
    },
    {
      "cell_type": "code",
      "source": [
        "info_df['pct'].plot.hist()"
      ],
      "metadata": {
        "colab": {
          "base_uri": "https://localhost:8080/",
          "height": 282
        },
        "id": "_CdQ0p5BuqAT",
        "outputId": "8bca36db-d738-48a9-8039-080d5bee31b6"
      },
      "execution_count": 41,
      "outputs": [
        {
          "output_type": "execute_result",
          "data": {
            "text/plain": [
              "<matplotlib.axes._subplots.AxesSubplot at 0x7fd7e870e8b0>"
            ]
          },
          "metadata": {},
          "execution_count": 41
        },
        {
          "output_type": "display_data",
          "data": {
            "text/plain": [
              "<Figure size 432x288 with 1 Axes>"
            ],
            "image/png": "[encoded data removed]"
          },
          "metadata": {
            "needs_background": "light"
          }
        }
      ]
    },
    {
      "cell_type": "code",
      "source": [
        "info_df['pct'].describe(percentiles = np.arange(0,1,0.1))"
      ],
      "metadata": {
        "colab": {
          "base_uri": "https://localhost:8080/"
        },
        "id": "NPrm2bd3vG6p",
        "outputId": "ef463568-e5f0-4a36-994a-9f73905d440a"
      },
      "execution_count": 42,
      "outputs": [
        {
          "output_type": "execute_result",
          "data": {
            "text/plain": [
              "count    183.000000\n",
              "mean       0.210645\n",
              "std        2.715924\n",
              "min      -11.138862\n",
              "0%       -11.138862\n",
              "10%       -2.864002\n",
              "20%       -1.569289\n",
              "30%       -0.905648\n",
              "40%       -0.364202\n",
              "50%        0.248147\n",
              "60%        1.006677\n",
              "70%        1.501130\n",
              "80%        2.086089\n",
              "90%        3.197125\n",
              "max       11.130199\n",
              "Name: pct, dtype: float64"
            ]
          },
          "metadata": {},
          "execution_count": 42
        }
      ]
    },
    {
      "cell_type": "code",
      "source": [],
      "metadata": {
        "id": "_D3jpgSgv6_E"
      },
      "execution_count": null,
      "outputs": []
    }
  ]
}